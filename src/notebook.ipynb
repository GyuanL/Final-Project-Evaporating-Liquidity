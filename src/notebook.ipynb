{
 "cells": [
  {
   "cell_type": "markdown",
   "metadata": {},
   "source": [
    "# Final Project - Evaporating Liquidity\n",
    "\n",
    "#### Ruilong Guo, Sifei Zhao, Zhiyuan Liu, Junhan Fu"
   ]
  },
  {
   "cell_type": "markdown",
   "metadata": {},
   "source": [
    "In this project, we replicate tables from the paper \"_Evaporating Liquidity_\" by Stefan Nagel using the Principals of Reproducible Analytical Pipelines (RAPs) learned in the class. \n",
    "\n",
    "The author demonstrates that short-term reversal strategy profits stem from liquidity provision, making them notably predictable by the VIX index. Additionally, the author discovered that these reversal strategies yield substantial returns not only for individual stocks but also for industry portfolios, particularly during high VIX periods.\n",
    "\n",
    "Our replication is automated from end-to-end using Pydoit, formatted using the project template (blank_project) provided by professor Bejarano, which is based on the Cookiecutter Data Science template."
   ]
  },
  {
   "cell_type": "code",
   "execution_count": 1,
   "metadata": {},
   "outputs": [],
   "source": [
    "import pandas as pd\n",
    "import numpy as np\n",
    "import matplotlib.pyplot as plt\n",
    "\n",
    "import config\n",
    "import statsmodels.api as sm\n",
    "import plotly.express as px\n",
    "\n",
    "import load_CRSP_stock\n",
    "import load_FF_industry\n",
    "import load_vix\n",
    "\n",
    "import clean_CRSP_stock\n",
    "import calc_reversal_strategy\n",
    "import additional_analysis\n",
    "import regression\n",
    "import regression_hac\n",
    "\n",
    "DATA_DIR = config.DATA_DIR\n",
    "\n",
    "import warnings\n",
    "warnings.filterwarnings('ignore')\n"
   ]
  },
  {
   "cell_type": "markdown",
   "metadata": {},
   "source": [
    "## Data Collection"
   ]
  },
  {
   "cell_type": "markdown",
   "metadata": {},
   "source": [
    "### 1. Pull and load CRSP data from WRDS"
   ]
  },
  {
   "cell_type": "markdown",
   "metadata": {},
   "source": [
    "Using `load_CRSP_stock`, we pull and save CRSP daily stock data and indexes from WRDS (Wharton Research Data Services). \n",
    "\n",
    "The CRSP daily stock data is needed to construct individual portfolios based on Reversal strategy. The CRSP daily index data is needed to evaluate the performance of Reversal strategy portfolios.\n",
    "\n",
    "Specifically:\n",
    "- we use query to pull data of stocks with share code 10 or 11, from NYSE, AMEX, and Nasdaq\n",
    "- pull one extra month of daily stock data for later data cleaning and processing"
   ]
  },
  {
   "cell_type": "markdown",
   "metadata": {},
   "source": [
    "#### 1) CRSP daily stock data"
   ]
  },
  {
   "cell_type": "code",
   "execution_count": 2,
   "metadata": {},
   "outputs": [
    {
     "name": "stdout",
     "output_type": "stream",
     "text": [
      "<class 'pandas.core.frame.DataFrame'>\n",
      "Index: 29892809 entries, 0 to 392808\n",
      "Data columns (total 12 columns):\n",
      " #   Column   Dtype         \n",
      "---  ------   -----         \n",
      " 0   date     datetime64[ns]\n",
      " 1   permno   int64         \n",
      " 2   permco   int64         \n",
      " 3   exchcd   int64         \n",
      " 4   prc      float64       \n",
      " 5   bid      float64       \n",
      " 6   ask      float64       \n",
      " 7   shrout   float64       \n",
      " 8   cfacpr   float64       \n",
      " 9   cfacshr  float64       \n",
      " 10  ret      float64       \n",
      " 11  retx     float64       \n",
      "dtypes: datetime64[ns](1), float64(8), int64(3)\n",
      "memory usage: 2.9 GB\n"
     ]
    }
   ],
   "source": [
    "df_dsf = load_CRSP_stock.load_CRSP_daily_file(data_dir=DATA_DIR)\n",
    "df_dsf.info()"
   ]
  },
  {
   "cell_type": "markdown",
   "metadata": {},
   "source": [
    "#### 2) CRSP daily indexes"
   ]
  },
  {
   "cell_type": "code",
   "execution_count": 3,
   "metadata": {},
   "outputs": [
    {
     "data": {
      "text/plain": [
       "Index(['caldt', 'vwretd', 'vwindd', 'vwretx', 'vwindx', 'ewretd', 'ewindd',\n",
       "       'ewretx', 'ewindx', 'sprtrn', 'spindx', 'decret1', 'decind1', 'decret2',\n",
       "       'decind2', 'decret3', 'decind3', 'decret4', 'decind4', 'decret5',\n",
       "       'decind5', 'decret6', 'decind6', 'decret7', 'decind7', 'decret8',\n",
       "       'decind8', 'decret9', 'decind9', 'decret10', 'decind10', 'totval',\n",
       "       'totcnt', 'usdval', 'usdcnt'],\n",
       "      dtype='object')"
      ]
     },
     "execution_count": 3,
     "metadata": {},
     "output_type": "execute_result"
    }
   ],
   "source": [
    "df_msix = load_CRSP_stock.load_CRSP_index_files(data_dir=DATA_DIR)\n",
    "df_msix.columns"
   ]
  },
  {
   "cell_type": "markdown",
   "metadata": {},
   "source": [
    "### 2. Pull and load data from the Fama-French Data Library\n"
   ]
  },
  {
   "cell_type": "markdown",
   "metadata": {},
   "source": [
    "\n",
    "Using `load_FF_industry`, we pull and save 48 industry portfolio daily returns from the Fama/French Data Library. \n",
    "\n",
    "The industry portfolios are constructed by classifying stocks into 48 industries as in Fama and French (1997). The industry portfolio daily returns are needed to construct the industry portfolios based on Reversal strategy."
   ]
  },
  {
   "cell_type": "code",
   "execution_count": 4,
   "metadata": {},
   "outputs": [],
   "source": [
    "ff = load_FF_industry.load_FF_industry_portfolio_daily(data_dir=DATA_DIR)"
   ]
  },
  {
   "cell_type": "markdown",
   "metadata": {},
   "source": [
    "#### Average Value Weighted Daily Returns"
   ]
  },
  {
   "cell_type": "code",
   "execution_count": 5,
   "metadata": {},
   "outputs": [
    {
     "data": {
      "text/html": [
       "<div>\n",
       "<style scoped>\n",
       "    .dataframe tbody tr th:only-of-type {\n",
       "        vertical-align: middle;\n",
       "    }\n",
       "\n",
       "    .dataframe tbody tr th {\n",
       "        vertical-align: top;\n",
       "    }\n",
       "\n",
       "    .dataframe thead th {\n",
       "        text-align: right;\n",
       "    }\n",
       "</style>\n",
       "<table border=\"1\" class=\"dataframe\">\n",
       "  <thead>\n",
       "    <tr style=\"text-align: right;\">\n",
       "      <th></th>\n",
       "      <th>Agric</th>\n",
       "      <th>Food</th>\n",
       "      <th>Soda</th>\n",
       "      <th>Beer</th>\n",
       "      <th>Smoke</th>\n",
       "      <th>Toys</th>\n",
       "      <th>Fun</th>\n",
       "      <th>Books</th>\n",
       "      <th>Hshld</th>\n",
       "      <th>Clths</th>\n",
       "      <th>...</th>\n",
       "      <th>Boxes</th>\n",
       "      <th>Trans</th>\n",
       "      <th>Whlsl</th>\n",
       "      <th>Rtail</th>\n",
       "      <th>Meals</th>\n",
       "      <th>Banks</th>\n",
       "      <th>Insur</th>\n",
       "      <th>RlEst</th>\n",
       "      <th>Fin</th>\n",
       "      <th>Other</th>\n",
       "    </tr>\n",
       "    <tr>\n",
       "      <th>Date</th>\n",
       "      <th></th>\n",
       "      <th></th>\n",
       "      <th></th>\n",
       "      <th></th>\n",
       "      <th></th>\n",
       "      <th></th>\n",
       "      <th></th>\n",
       "      <th></th>\n",
       "      <th></th>\n",
       "      <th></th>\n",
       "      <th></th>\n",
       "      <th></th>\n",
       "      <th></th>\n",
       "      <th></th>\n",
       "      <th></th>\n",
       "      <th></th>\n",
       "      <th></th>\n",
       "      <th></th>\n",
       "      <th></th>\n",
       "      <th></th>\n",
       "      <th></th>\n",
       "    </tr>\n",
       "  </thead>\n",
       "  <tbody>\n",
       "    <tr>\n",
       "      <th>2023-12-22</th>\n",
       "      <td>0.52</td>\n",
       "      <td>0.74</td>\n",
       "      <td>0.65</td>\n",
       "      <td>0.48</td>\n",
       "      <td>0.12</td>\n",
       "      <td>-0.57</td>\n",
       "      <td>-0.45</td>\n",
       "      <td>0.36</td>\n",
       "      <td>0.52</td>\n",
       "      <td>-6.27</td>\n",
       "      <td>...</td>\n",
       "      <td>0.39</td>\n",
       "      <td>0.51</td>\n",
       "      <td>0.37</td>\n",
       "      <td>0.08</td>\n",
       "      <td>0.04</td>\n",
       "      <td>0.21</td>\n",
       "      <td>0.28</td>\n",
       "      <td>0.59</td>\n",
       "      <td>0.44</td>\n",
       "      <td>0.18</td>\n",
       "    </tr>\n",
       "    <tr>\n",
       "      <th>2023-12-26</th>\n",
       "      <td>0.99</td>\n",
       "      <td>0.63</td>\n",
       "      <td>0.82</td>\n",
       "      <td>0.58</td>\n",
       "      <td>0.20</td>\n",
       "      <td>0.99</td>\n",
       "      <td>0.63</td>\n",
       "      <td>0.63</td>\n",
       "      <td>0.44</td>\n",
       "      <td>-0.02</td>\n",
       "      <td>...</td>\n",
       "      <td>0.71</td>\n",
       "      <td>0.41</td>\n",
       "      <td>0.39</td>\n",
       "      <td>0.16</td>\n",
       "      <td>0.33</td>\n",
       "      <td>0.72</td>\n",
       "      <td>0.14</td>\n",
       "      <td>0.96</td>\n",
       "      <td>0.57</td>\n",
       "      <td>0.38</td>\n",
       "    </tr>\n",
       "    <tr>\n",
       "      <th>2023-12-27</th>\n",
       "      <td>-0.03</td>\n",
       "      <td>0.23</td>\n",
       "      <td>0.59</td>\n",
       "      <td>0.24</td>\n",
       "      <td>0.26</td>\n",
       "      <td>0.34</td>\n",
       "      <td>0.07</td>\n",
       "      <td>1.25</td>\n",
       "      <td>0.22</td>\n",
       "      <td>-0.32</td>\n",
       "      <td>...</td>\n",
       "      <td>0.36</td>\n",
       "      <td>-0.03</td>\n",
       "      <td>0.06</td>\n",
       "      <td>0.26</td>\n",
       "      <td>0.07</td>\n",
       "      <td>0.23</td>\n",
       "      <td>0.19</td>\n",
       "      <td>1.05</td>\n",
       "      <td>0.68</td>\n",
       "      <td>0.16</td>\n",
       "    </tr>\n",
       "    <tr>\n",
       "      <th>2023-12-28</th>\n",
       "      <td>0.29</td>\n",
       "      <td>0.52</td>\n",
       "      <td>0.00</td>\n",
       "      <td>0.14</td>\n",
       "      <td>0.20</td>\n",
       "      <td>-0.13</td>\n",
       "      <td>0.24</td>\n",
       "      <td>0.99</td>\n",
       "      <td>0.02</td>\n",
       "      <td>0.63</td>\n",
       "      <td>...</td>\n",
       "      <td>-0.35</td>\n",
       "      <td>0.10</td>\n",
       "      <td>-0.19</td>\n",
       "      <td>-0.03</td>\n",
       "      <td>0.10</td>\n",
       "      <td>0.33</td>\n",
       "      <td>0.41</td>\n",
       "      <td>-0.13</td>\n",
       "      <td>0.26</td>\n",
       "      <td>0.17</td>\n",
       "    </tr>\n",
       "    <tr>\n",
       "      <th>2023-12-29</th>\n",
       "      <td>-0.40</td>\n",
       "      <td>0.23</td>\n",
       "      <td>0.21</td>\n",
       "      <td>0.09</td>\n",
       "      <td>0.13</td>\n",
       "      <td>-1.11</td>\n",
       "      <td>-0.70</td>\n",
       "      <td>-0.09</td>\n",
       "      <td>0.23</td>\n",
       "      <td>-0.40</td>\n",
       "      <td>...</td>\n",
       "      <td>-0.87</td>\n",
       "      <td>-0.90</td>\n",
       "      <td>-0.05</td>\n",
       "      <td>-0.52</td>\n",
       "      <td>0.06</td>\n",
       "      <td>-0.59</td>\n",
       "      <td>0.20</td>\n",
       "      <td>-0.95</td>\n",
       "      <td>-0.68</td>\n",
       "      <td>-0.24</td>\n",
       "    </tr>\n",
       "  </tbody>\n",
       "</table>\n",
       "<p>5 rows × 48 columns</p>\n",
       "</div>"
      ],
      "text/plain": [
       "            Agric  Food   Soda   Beer   Smoke  Toys   Fun    Books  Hshld  \\\n",
       "Date                                                                        \n",
       "2023-12-22   0.52   0.74   0.65   0.48   0.12  -0.57  -0.45   0.36   0.52   \n",
       "2023-12-26   0.99   0.63   0.82   0.58   0.20   0.99   0.63   0.63   0.44   \n",
       "2023-12-27  -0.03   0.23   0.59   0.24   0.26   0.34   0.07   1.25   0.22   \n",
       "2023-12-28   0.29   0.52   0.00   0.14   0.20  -0.13   0.24   0.99   0.02   \n",
       "2023-12-29  -0.40   0.23   0.21   0.09   0.13  -1.11  -0.70  -0.09   0.23   \n",
       "\n",
       "            Clths  ...  Boxes  Trans  Whlsl  Rtail  Meals  Banks  Insur  \\\n",
       "Date               ...                                                    \n",
       "2023-12-22  -6.27  ...   0.39   0.51   0.37   0.08   0.04   0.21   0.28   \n",
       "2023-12-26  -0.02  ...   0.71   0.41   0.39   0.16   0.33   0.72   0.14   \n",
       "2023-12-27  -0.32  ...   0.36  -0.03   0.06   0.26   0.07   0.23   0.19   \n",
       "2023-12-28   0.63  ...  -0.35   0.10  -0.19  -0.03   0.10   0.33   0.41   \n",
       "2023-12-29  -0.40  ...  -0.87  -0.90  -0.05  -0.52   0.06  -0.59   0.20   \n",
       "\n",
       "            RlEst  Fin    Other  \n",
       "Date                             \n",
       "2023-12-22   0.59   0.44   0.18  \n",
       "2023-12-26   0.96   0.57   0.38  \n",
       "2023-12-27   1.05   0.68   0.16  \n",
       "2023-12-28  -0.13   0.26   0.17  \n",
       "2023-12-29  -0.95  -0.68  -0.24  \n",
       "\n",
       "[5 rows x 48 columns]"
      ]
     },
     "execution_count": 5,
     "metadata": {},
     "output_type": "execute_result"
    }
   ],
   "source": [
    "ff[0].tail()"
   ]
  },
  {
   "cell_type": "markdown",
   "metadata": {},
   "source": [
    "### 3. Pull and load VIX from the Fama-French Data Library\n"
   ]
  },
  {
   "cell_type": "markdown",
   "metadata": {},
   "source": [
    "Using `load_vix`, we pull and save CBOE Volatility Index data from FRED. The data is used later in table replicatation."
   ]
  },
  {
   "cell_type": "code",
   "execution_count": 6,
   "metadata": {},
   "outputs": [],
   "source": [
    "vix = load_vix.load_vix(data_dir=DATA_DIR)"
   ]
  },
  {
   "cell_type": "markdown",
   "metadata": {},
   "source": [
    "---"
   ]
  },
  {
   "cell_type": "markdown",
   "metadata": {},
   "source": [
    "## Data Cleaning and Processing"
   ]
  },
  {
   "cell_type": "markdown",
   "metadata": {},
   "source": [
    "### 1. Select the desired subsample of the data"
   ]
  },
  {
   "cell_type": "markdown",
   "metadata": {},
   "source": [
    "#### 1) For reversal strategy based on transaction prices calculated from daily closing prices"
   ]
  },
  {
   "cell_type": "markdown",
   "metadata": {},
   "source": [
    "1. Adjust prc with a negative sign to be positive"
   ]
  },
  {
   "cell_type": "markdown",
   "metadata": {},
   "source": [
    "> Prc is the closing price or the negative bid/ask average for a trading day. If the closing price is not available on any given trading day, the number in the price field has a negative sign to indicate that it is a bid/ask average and not an actual closing price. Please note that in this field the negative sign is a symbol and that the value of the bid/ask average is not negative. If neither closing price nor bid/ask average is available on a date, prc is set to zero. "
   ]
  },
  {
   "cell_type": "markdown",
   "metadata": {},
   "source": [
    "2. Filter stocks with closing price (prc) of at least $1 on the last trading day of the previous calendar month"
   ]
  },
  {
   "cell_type": "markdown",
   "metadata": {},
   "source": [
    "> To enter into the sample, a stock needs to have share code 10 or 11. In addition, it must have a closing price of at least $1 on the last trading day of the previous calendar month.\n"
   ]
  },
  {
   "cell_type": "markdown",
   "metadata": {},
   "source": [
    "3. Select the CRSP stock data for a specific time period"
   ]
  },
  {
   "cell_type": "code",
   "execution_count": 7,
   "metadata": {},
   "outputs": [],
   "source": [
    "def select_stocks_by_closing_prices(df):\n",
    "    \"\"\"\n",
    "    Clean the CRSP stock data for strategy based on closing prices\n",
    "    \"\"\"\n",
    "\n",
    "    # make sure 'prc' is positive (negative sign means using bid/ask average instead of closing price)\n",
    "    df = clean_CRSP_stock.clean_prc_to_positive(df)\n",
    "\n",
    "    # stocks must have a closing price of at least $1 on the last trading day of the previous calendar month\n",
    "    df = clean_CRSP_stock.clean_1dollar_prc(df)\n",
    "\n",
    "    # select time range of the data\n",
    "    df = clean_CRSP_stock.clean_date(df, start_year=1998, end_year=2024)\n",
    "\n",
    "    return df.reset_index()"
   ]
  },
  {
   "cell_type": "markdown",
   "metadata": {},
   "source": [
    "#### 2) For reversal strategy based on quote-midpoints calculated from averages of closing bid and ask quotes"
   ]
  },
  {
   "cell_type": "markdown",
   "metadata": {},
   "source": [
    "1. Adjust prc with a negative sign to be positive\n",
    "\n",
    "2. Filter stocks with closing price (prc) of at least $1 on the last trading day of the previous calendar month\n",
    "\n",
    "3. Select stocks traded on NASDAQ\n",
    "\n",
    "4. Adjust bid and ask quotes for stock splits using CRSP adjustment factor"
   ]
  },
  {
   "cell_type": "markdown",
   "metadata": {},
   "source": [
    "> Reversal strategy returns based on transaction prices are calculated from daily closing prices, and the reversal strategy returns based on quote-midpoints are calculated from averages of closing bid and ask quotes, as reported in the CRSP daily returns file (for Nasdaq stocks only), adjusted for stock splits and dividends using the CRSP adjustment factors and dividend information.\n"
   ]
  },
  {
   "cell_type": "markdown",
   "metadata": {},
   "source": [
    "5. Filter stocks with ratio of bid to quote-midpoint not smaller than 0.5.\n",
    "\n",
    "6. Filter stocks with one-day return based on quote-midpoints minus the return based on closing prices not less than -50% and not higher than 100%. If a closing transaction price is not available, the quote-midpoint is used to calculate transaction-price returns.\n",
    "\n",
    "7. Select the CRSP stock data for a specific time period"
   ]
  },
  {
   "cell_type": "markdown",
   "metadata": {},
   "source": [
    "\n",
    "> In a few instances, the closing bid and ask data for Nasdaq stocks on CRSP have some data recording errors, such as increases of bid or ask by a factor of 100 or digits that are cut off. \n",
    "\n",
    "> To screen out data recording errors of bid and ask data for Nasdaq stocks: require that the ratio of bid to quote-midpoint is not smaller than 0.5, and the one-day return based on quote-midpoints minus the return based on closing prices is not less than -50% and not higher than 100%. If a closing transaction price is not available, the quote-midpoint is used to calculate transaction-price returns.\n"
   ]
  },
  {
   "cell_type": "code",
   "execution_count": 8,
   "metadata": {},
   "outputs": [],
   "source": [
    "def select_stocks_by_quote_midpoints(df):\n",
    "    \"\"\"\n",
    "    Clean the CRSP stock data for strategy based on quote-midpoints\n",
    "    \"\"\"\n",
    "\n",
    "    # make sure 'prc' is positive (negative sign means using bid/ask average instead of closing price)\n",
    "    df = clean_CRSP_stock.clean_prc_to_positive(df)\n",
    "\n",
    "    # Nasdaq stocks only\n",
    "    df = df[df['exchcd'] == 3]\n",
    "\n",
    "    # adjusting the price using adjustment factors\n",
    "    df['bid'] = df['bid'] / df['cfacpr']\n",
    "    df['ask'] = df['ask'] / df['cfacpr']\n",
    "    df['quote_midpoint'] = (df['bid'] + df['ask']) / 2\n",
    "\n",
    "    # ratio of bid to quote-midpoint is not smaller than 0.5\n",
    "    df = clean_CRSP_stock.clean_bid_quote_midpoint(df)\n",
    "\n",
    "    # one-day return based on quote-midpoints minus the return based on closing prices is less than -50% and higher than 100%\n",
    "    df = clean_CRSP_stock.clean_one_day_return(df)\n",
    "\n",
    "    # stocks must have a closing price of at least $1 on the last trading day of the previous calendar month\n",
    "    df = clean_CRSP_stock.clean_1dollar_prc(df)\n",
    "\n",
    "    # select time range of the data\n",
    "    df = clean_CRSP_stock.clean_date(df, start_year=1998, end_year=2024)\n",
    "\n",
    "    return df.reset_index()"
   ]
  },
  {
   "cell_type": "markdown",
   "metadata": {},
   "source": [
    "### 2. Load cleaned data"
   ]
  },
  {
   "cell_type": "code",
   "execution_count": 9,
   "metadata": {},
   "outputs": [
    {
     "name": "stdout",
     "output_type": "stream",
     "text": [
      "<class 'pandas.core.frame.DataFrame'>\n",
      "RangeIndex: 28450247 entries, 0 to 28450246\n",
      "Data columns (total 13 columns):\n",
      " #   Column   Dtype         \n",
      "---  ------   -----         \n",
      " 0   index    int64         \n",
      " 1   date     datetime64[ns]\n",
      " 2   permno   int64         \n",
      " 3   permco   int64         \n",
      " 4   exchcd   int64         \n",
      " 5   prc      float64       \n",
      " 6   bid      float64       \n",
      " 7   ask      float64       \n",
      " 8   shrout   float64       \n",
      " 9   cfacpr   float64       \n",
      " 10  cfacshr  float64       \n",
      " 11  ret      float64       \n",
      " 12  retx     float64       \n",
      "dtypes: datetime64[ns](1), float64(8), int64(4)\n",
      "memory usage: 2.8 GB\n"
     ]
    }
   ],
   "source": [
    "dfcp = clean_CRSP_stock.load_CRSP_closing_price(data_dir=DATA_DIR)\n",
    "dfcp.info()"
   ]
  },
  {
   "cell_type": "code",
   "execution_count": 10,
   "metadata": {},
   "outputs": [
    {
     "name": "stdout",
     "output_type": "stream",
     "text": [
      "<class 'pandas.core.frame.DataFrame'>\n",
      "RangeIndex: 17426065 entries, 0 to 17426064\n",
      "Data columns (total 16 columns):\n",
      " #   Column                    Dtype         \n",
      "---  ------                    -----         \n",
      " 0   index                     int64         \n",
      " 1   date                      datetime64[ns]\n",
      " 2   permno                    int64         \n",
      " 3   permco                    int64         \n",
      " 4   exchcd                    int64         \n",
      " 5   prc                       float64       \n",
      " 6   bid                       float64       \n",
      " 7   ask                       float64       \n",
      " 8   shrout                    float64       \n",
      " 9   cfacpr                    float64       \n",
      " 10  cfacshr                   float64       \n",
      " 11  ret                       float64       \n",
      " 12  retx                      float64       \n",
      " 13  quote_midpoint            float64       \n",
      " 14  transaction_price_return  float64       \n",
      " 15  quote_midpoint_return     float64       \n",
      "dtypes: datetime64[ns](1), float64(11), int64(4)\n",
      "memory usage: 2.1 GB\n"
     ]
    }
   ],
   "source": [
    "dfmid = clean_CRSP_stock.load_CRSP_midpoint(data_dir=DATA_DIR)\n",
    "dfmid.info()"
   ]
  },
  {
   "cell_type": "markdown",
   "metadata": {},
   "source": [
    "---"
   ]
  },
  {
   "cell_type": "markdown",
   "metadata": {},
   "source": [
    "## Reversal Strategy "
   ]
  },
  {
   "cell_type": "markdown",
   "metadata": {},
   "source": [
    "### 1. Construct Reversal Strategy "
   ]
  },
  {
   "cell_type": "markdown",
   "metadata": {},
   "source": [
    "Each day t, the reversal strategy returns are calculated as the average of returns from five reversal strategies that weight stocks proportional to the negative of market-adjusted returns on days t − 1, t − 2, ..., t − 5, with weights scaled to add up to $1 short and $1 long.\n",
    "\n",
    "$$w_{it}^R = -\\left( \\frac{1}{2} \\sum_{i=1}^{N} \\left| R_{it-1} - R_{mt-1} \\right| \\right)^{-1} \\left( R_{it-1} - R_{mt-1} \\right)$$\n",
    "\n",
    "- $R_{mt-1} = \\frac{1}{N}\\sum_{i=1}^N R_{it-1}$: the equal-weighted market return."
   ]
  },
  {
   "cell_type": "code",
   "execution_count": 11,
   "metadata": {},
   "outputs": [],
   "source": [
    "def calc_reverse_strategy_ret(df, type_col='industry', ret_col='ret'):\n",
    "    df = df.copy()\n",
    "    df['ret-avg'] = df.groupby('date')[ret_col].transform(lambda x: x - x.mean())\n",
    "    df['w'] = df.groupby('date')['ret-avg'].transform(lambda x: - x / (0.5 * x.abs().sum()))\n",
    "\n",
    "    for i in range(1, 6):\n",
    "        df[f'w_lag_{i}'] = df.groupby(type_col)['w'].shift(i)\n",
    "\n",
    "    df['rev_ret'] = (df['w_lag_1'] + df['w_lag_2'] + df['w_lag_3'] + df['w_lag_4'] + df['w_lag_5']) * df[ret_col] / 5\n",
    "\n",
    "    return df.groupby('date')['rev_ret'].sum()"
   ]
  },
  {
   "cell_type": "markdown",
   "metadata": {},
   "source": [
    "To be specific, the returns of the reversal strategies are calculated as an overlay of the returns of five sub-strategies: One with portfolio weights conditioned on day t − 1 returns, one conditioned on day t − 2 data, ..., one conditioned on t − 5 data. Then we calculated the simple average of these five sub-strategies’ returns as the overall reversal strategy return."
   ]
  },
  {
   "cell_type": "markdown",
   "metadata": {},
   "source": [
    "### 2. Hedge against market factor risk"
   ]
  },
  {
   "cell_type": "markdown",
   "metadata": {},
   "source": [
    "Besides, we constructed the hedged reversal strategies after eliminating time-varying market factor exposure and then calculated the returns.\n",
    "\n",
    "We first estimated a regression\n",
    "\n",
    "$$L^R_t = β_0 + β_1f_t + β_2 (f_t × sgn(f_{t−1})) + ε_t$$\n",
    "- $f_t$ is the return on the CRSP value-weighted index\n",
    "- $L^R_t$ is the reversal strategy return\n",
    "\n",
    "The time-varying beta is $β_{t−1} = β_1 + β_2 sgn(f_{t−1})$. Then hedged returns are calculated as $L^R_t − β_{t−1}f_t$."
   ]
  },
  {
   "cell_type": "code",
   "execution_count": 12,
   "metadata": {},
   "outputs": [],
   "source": [
    "def calc_hedged_return(ret):\n",
    "    \n",
    "    index = load_CRSP_stock.load_CRSP_index_files(data_dir=DATA_DIR)\n",
    "    index = index.set_index('caldt')['vwretx']*100\n",
    "    shifted_sign = index.shift(1).apply(lambda x: 1 if x > 0 else -1)\n",
    "    index_shifted_sign = index * shifted_sign\n",
    "\n",
    "    factor = pd.concat([index, index_shifted_sign], axis=1)\n",
    "\n",
    "    beta = calc_reversal_strategy.calc_multiple_beta(factor, ret)\n",
    "    time_varying_beta = beta[0] + beta[1] * shifted_sign\n",
    "\n",
    "    hedged_ret = ret - time_varying_beta * index\n",
    "\n",
    "    return hedged_ret"
   ]
  },
  {
   "cell_type": "markdown",
   "metadata": {},
   "source": [
    "---"
   ]
  },
  {
   "cell_type": "markdown",
   "metadata": {},
   "source": [
    "## Table Replication"
   ]
  },
  {
   "cell_type": "markdown",
   "metadata": {},
   "source": [
    "We replicate tables with data with time period from January 1998 to December 2010."
   ]
  },
  {
   "cell_type": "markdown",
   "metadata": {},
   "source": [
    "### __Table 1: Summary Statistics of Reversal Strategy Returns__"
   ]
  },
  {
   "cell_type": "markdown",
   "metadata": {},
   "source": [
    "Panel A presents statistics for the raw returns of these strategies, while Panel B shows similar statistics for hedged returns, which are obtained by eliminating conditional market factor exposure."
   ]
  },
  {
   "cell_type": "markdown",
   "metadata": {},
   "source": [
    "#### Panel A. Raw returns"
   ]
  },
  {
   "cell_type": "markdown",
   "metadata": {},
   "source": [
    "Reversal strategy returns are calculated both with transaction-price returns, quote-midpoint returns, and industry returns. In each case, the portfolio weights are calculated with the same type of return (on days t − 1 to t − 5) as the type used to calculate portfolio returns (on day t).\n",
    "\n",
    "- Transaction-price returns are calculated from daily CRSP closing transaction prices (for NYSE, AMEX, and Nasdaq stocks). \n",
    "- Quote-midpoint returns are calculated from bid-ask midpoints of daily CRSP closing quotes (with Nasdaq stocks only). \n",
    "- The industry returns pulled from Fama and French are calculated with transaction prices. "
   ]
  },
  {
   "cell_type": "code",
   "execution_count": 13,
   "metadata": {},
   "outputs": [
    {
     "data": {
      "text/html": [
       "<div>\n",
       "<style scoped>\n",
       "    .dataframe tbody tr th:only-of-type {\n",
       "        vertical-align: middle;\n",
       "    }\n",
       "\n",
       "    .dataframe tbody tr th {\n",
       "        vertical-align: top;\n",
       "    }\n",
       "\n",
       "    .dataframe thead th {\n",
       "        text-align: right;\n",
       "    }\n",
       "</style>\n",
       "<table border=\"1\" class=\"dataframe\">\n",
       "  <thead>\n",
       "    <tr style=\"text-align: right;\">\n",
       "      <th></th>\n",
       "      <th>Transact. prices</th>\n",
       "      <th>Quote-midpoints</th>\n",
       "      <th>Industry portfolio</th>\n",
       "    </tr>\n",
       "  </thead>\n",
       "  <tbody>\n",
       "    <tr>\n",
       "      <th>count</th>\n",
       "      <td>3271.000000</td>\n",
       "      <td>3271.000000</td>\n",
       "      <td>3271.000000</td>\n",
       "    </tr>\n",
       "    <tr>\n",
       "      <th>mean</th>\n",
       "      <td>0.305433</td>\n",
       "      <td>0.190251</td>\n",
       "      <td>0.015948</td>\n",
       "    </tr>\n",
       "    <tr>\n",
       "      <th>std</th>\n",
       "      <td>0.563410</td>\n",
       "      <td>0.666002</td>\n",
       "      <td>0.557583</td>\n",
       "    </tr>\n",
       "    <tr>\n",
       "      <th>min</th>\n",
       "      <td>-3.841128</td>\n",
       "      <td>-4.536907</td>\n",
       "      <td>-3.699509</td>\n",
       "    </tr>\n",
       "    <tr>\n",
       "      <th>25%</th>\n",
       "      <td>0.030626</td>\n",
       "      <td>-0.088126</td>\n",
       "      <td>-0.222983</td>\n",
       "    </tr>\n",
       "    <tr>\n",
       "      <th>50%</th>\n",
       "      <td>0.238444</td>\n",
       "      <td>0.136898</td>\n",
       "      <td>0.000405</td>\n",
       "    </tr>\n",
       "    <tr>\n",
       "      <th>75%</th>\n",
       "      <td>0.496925</td>\n",
       "      <td>0.395883</td>\n",
       "      <td>0.220673</td>\n",
       "    </tr>\n",
       "    <tr>\n",
       "      <th>max</th>\n",
       "      <td>9.819708</td>\n",
       "      <td>10.727361</td>\n",
       "      <td>4.925304</td>\n",
       "    </tr>\n",
       "  </tbody>\n",
       "</table>\n",
       "</div>"
      ],
      "text/plain": [
       "       Transact. prices  Quote-midpoints  Industry portfolio\n",
       "count       3271.000000      3271.000000         3271.000000\n",
       "mean           0.305433         0.190251            0.015948\n",
       "std            0.563410         0.666002            0.557583\n",
       "min           -3.841128        -4.536907           -3.699509\n",
       "25%            0.030626        -0.088126           -0.222983\n",
       "50%            0.238444         0.136898            0.000405\n",
       "75%            0.496925         0.395883            0.220673\n",
       "max            9.819708        10.727361            4.925304"
      ]
     },
     "execution_count": 13,
     "metadata": {},
     "output_type": "execute_result"
    }
   ],
   "source": [
    "ret_raw = calc_reversal_strategy.load_reversal_return(data_dir=DATA_DIR)\n",
    "ret_raw.describe()"
   ]
  },
  {
   "cell_type": "code",
   "execution_count": 14,
   "metadata": {},
   "outputs": [
    {
     "data": {
      "image/png": "[encoded data removed]",
      "text/plain": [
       "<Figure size 800x800 with 3 Axes>"
      ]
     },
     "metadata": {},
     "output_type": "display_data"
    }
   ],
   "source": [
    "ret_raw.plot(subplots=True, figsize=(8, 8));"
   ]
  },
  {
   "cell_type": "markdown",
   "metadata": {},
   "source": [
    "#### Replication of Table 1A"
   ]
  },
  {
   "cell_type": "code",
   "execution_count": 15,
   "metadata": {},
   "outputs": [
    {
     "data": {
      "text/html": [
       "<div>\n",
       "<style scoped>\n",
       "    .dataframe tbody tr th:only-of-type {\n",
       "        vertical-align: middle;\n",
       "    }\n",
       "\n",
       "    .dataframe tbody tr th {\n",
       "        vertical-align: top;\n",
       "    }\n",
       "\n",
       "    .dataframe thead th {\n",
       "        text-align: right;\n",
       "    }\n",
       "</style>\n",
       "<table border=\"1\" class=\"dataframe\">\n",
       "  <thead>\n",
       "    <tr style=\"text-align: right;\">\n",
       "      <th></th>\n",
       "      <th>Transact. prices</th>\n",
       "      <th>Quote-midpoints</th>\n",
       "      <th>Industry portfolio</th>\n",
       "    </tr>\n",
       "  </thead>\n",
       "  <tbody>\n",
       "    <tr>\n",
       "      <th>Mean return(% per day)</th>\n",
       "      <td>0.31</td>\n",
       "      <td>0.19</td>\n",
       "      <td>0.02</td>\n",
       "    </tr>\n",
       "    <tr>\n",
       "      <th>Std.dev.(% per day)</th>\n",
       "      <td>0.56</td>\n",
       "      <td>0.67</td>\n",
       "      <td>0.56</td>\n",
       "    </tr>\n",
       "    <tr>\n",
       "      <th>Skewness</th>\n",
       "      <td>3.01</td>\n",
       "      <td>3.57</td>\n",
       "      <td>0.77</td>\n",
       "    </tr>\n",
       "    <tr>\n",
       "      <th>Kurtosis</th>\n",
       "      <td>38.46</td>\n",
       "      <td>50.15</td>\n",
       "      <td>14.60</td>\n",
       "    </tr>\n",
       "    <tr>\n",
       "      <th>Worst day return(%)</th>\n",
       "      <td>-3.84</td>\n",
       "      <td>-4.54</td>\n",
       "      <td>-3.70</td>\n",
       "    </tr>\n",
       "    <tr>\n",
       "      <th>Worst 3-month return(%)</th>\n",
       "      <td>2.51</td>\n",
       "      <td>-2.72</td>\n",
       "      <td>-12.17</td>\n",
       "    </tr>\n",
       "    <tr>\n",
       "      <th>Beta</th>\n",
       "      <td>0.11</td>\n",
       "      <td>0.09</td>\n",
       "      <td>0.10</td>\n",
       "    </tr>\n",
       "    <tr>\n",
       "      <th>Annualized Sharpe Ratio</th>\n",
       "      <td>8.61</td>\n",
       "      <td>4.53</td>\n",
       "      <td>0.45</td>\n",
       "    </tr>\n",
       "  </tbody>\n",
       "</table>\n",
       "</div>"
      ],
      "text/plain": [
       "                        Transact. prices Quote-midpoints Industry portfolio\n",
       "Mean return(% per day)              0.31            0.19               0.02\n",
       "Std.dev.(% per day)                 0.56            0.67               0.56\n",
       "Skewness                            3.01            3.57               0.77\n",
       "Kurtosis                           38.46           50.15              14.60\n",
       "Worst day return(%)                -3.84           -4.54              -3.70\n",
       "Worst 3-month return(%)             2.51           -2.72             -12.17\n",
       "Beta                                0.11            0.09               0.10\n",
       "Annualized Sharpe Ratio             8.61            4.53               0.45"
      ]
     },
     "execution_count": 15,
     "metadata": {},
     "output_type": "execute_result"
    }
   ],
   "source": [
    "df_stat_A = calc_reversal_strategy.summary_stats(ret_raw)\n",
    "df_stat_A\n"
   ]
  },
  {
   "cell_type": "markdown",
   "metadata": {},
   "source": [
    "#### Panel B. Returns hedged for conditional market"
   ]
  },
  {
   "cell_type": "markdown",
   "metadata": {},
   "source": [
    "Also, we calculated the returns of hedged reversal strategies after eliminating time-varying market factor exposure."
   ]
  },
  {
   "cell_type": "code",
   "execution_count": 16,
   "metadata": {},
   "outputs": [
    {
     "data": {
      "text/html": [
       "<div>\n",
       "<style scoped>\n",
       "    .dataframe tbody tr th:only-of-type {\n",
       "        vertical-align: middle;\n",
       "    }\n",
       "\n",
       "    .dataframe tbody tr th {\n",
       "        vertical-align: top;\n",
       "    }\n",
       "\n",
       "    .dataframe thead th {\n",
       "        text-align: right;\n",
       "    }\n",
       "</style>\n",
       "<table border=\"1\" class=\"dataframe\">\n",
       "  <thead>\n",
       "    <tr style=\"text-align: right;\">\n",
       "      <th></th>\n",
       "      <th>Hedged Transact. prices</th>\n",
       "      <th>Hedged Quote-midpoints</th>\n",
       "      <th>Hedged Industry portfolio</th>\n",
       "    </tr>\n",
       "  </thead>\n",
       "  <tbody>\n",
       "    <tr>\n",
       "      <th>count</th>\n",
       "      <td>3271.000000</td>\n",
       "      <td>3271.000000</td>\n",
       "      <td>3271.000000</td>\n",
       "    </tr>\n",
       "    <tr>\n",
       "      <th>mean</th>\n",
       "      <td>0.302422</td>\n",
       "      <td>0.187542</td>\n",
       "      <td>0.012924</td>\n",
       "    </tr>\n",
       "    <tr>\n",
       "      <th>std</th>\n",
       "      <td>0.541072</td>\n",
       "      <td>0.651498</td>\n",
       "      <td>0.535867</td>\n",
       "    </tr>\n",
       "    <tr>\n",
       "      <th>min</th>\n",
       "      <td>-3.052995</td>\n",
       "      <td>-3.957590</td>\n",
       "      <td>-3.311345</td>\n",
       "    </tr>\n",
       "    <tr>\n",
       "      <th>25%</th>\n",
       "      <td>0.028326</td>\n",
       "      <td>-0.102397</td>\n",
       "      <td>-0.236107</td>\n",
       "    </tr>\n",
       "    <tr>\n",
       "      <th>50%</th>\n",
       "      <td>0.238848</td>\n",
       "      <td>0.131694</td>\n",
       "      <td>-0.004331</td>\n",
       "    </tr>\n",
       "    <tr>\n",
       "      <th>75%</th>\n",
       "      <td>0.496864</td>\n",
       "      <td>0.404927</td>\n",
       "      <td>0.225650</td>\n",
       "    </tr>\n",
       "    <tr>\n",
       "      <th>max</th>\n",
       "      <td>9.606574</td>\n",
       "      <td>11.154354</td>\n",
       "      <td>4.153735</td>\n",
       "    </tr>\n",
       "  </tbody>\n",
       "</table>\n",
       "</div>"
      ],
      "text/plain": [
       "       Hedged Transact. prices  Hedged Quote-midpoints  \\\n",
       "count              3271.000000             3271.000000   \n",
       "mean                  0.302422                0.187542   \n",
       "std                   0.541072                0.651498   \n",
       "min                  -3.052995               -3.957590   \n",
       "25%                   0.028326               -0.102397   \n",
       "50%                   0.238848                0.131694   \n",
       "75%                   0.496864                0.404927   \n",
       "max                   9.606574               11.154354   \n",
       "\n",
       "       Hedged Industry portfolio  \n",
       "count                3271.000000  \n",
       "mean                    0.012924  \n",
       "std                     0.535867  \n",
       "min                    -3.311345  \n",
       "25%                    -0.236107  \n",
       "50%                    -0.004331  \n",
       "75%                     0.225650  \n",
       "max                     4.153735  "
      ]
     },
     "execution_count": 16,
     "metadata": {},
     "output_type": "execute_result"
    }
   ],
   "source": [
    "ret_hedged = calc_reversal_strategy.load_reversal_return(data_dir=DATA_DIR, hedged=True)\n",
    "ret_hedged.describe()"
   ]
  },
  {
   "cell_type": "code",
   "execution_count": 17,
   "metadata": {},
   "outputs": [
    {
     "data": {
      "image/png": "[encoded data removed]",
      "text/plain": [
       "<Figure size 800x800 with 3 Axes>"
      ]
     },
     "metadata": {},
     "output_type": "display_data"
    }
   ],
   "source": [
    "ret_hedged.plot(subplots=True, figsize=(8, 8));"
   ]
  },
  {
   "cell_type": "markdown",
   "metadata": {},
   "source": [
    "#### Replication of Table 1B"
   ]
  },
  {
   "cell_type": "code",
   "execution_count": 18,
   "metadata": {},
   "outputs": [
    {
     "data": {
      "text/html": [
       "<div>\n",
       "<style scoped>\n",
       "    .dataframe tbody tr th:only-of-type {\n",
       "        vertical-align: middle;\n",
       "    }\n",
       "\n",
       "    .dataframe tbody tr th {\n",
       "        vertical-align: top;\n",
       "    }\n",
       "\n",
       "    .dataframe thead th {\n",
       "        text-align: right;\n",
       "    }\n",
       "</style>\n",
       "<table border=\"1\" class=\"dataframe\">\n",
       "  <thead>\n",
       "    <tr style=\"text-align: right;\">\n",
       "      <th></th>\n",
       "      <th>Hedged Transact. prices</th>\n",
       "      <th>Hedged Quote-midpoints</th>\n",
       "      <th>Hedged Industry portfolio</th>\n",
       "    </tr>\n",
       "  </thead>\n",
       "  <tbody>\n",
       "    <tr>\n",
       "      <th>Mean return(% per day)</th>\n",
       "      <td>0.30</td>\n",
       "      <td>0.19</td>\n",
       "      <td>0.01</td>\n",
       "    </tr>\n",
       "    <tr>\n",
       "      <th>Std.dev.(% per day)</th>\n",
       "      <td>0.54</td>\n",
       "      <td>0.65</td>\n",
       "      <td>0.54</td>\n",
       "    </tr>\n",
       "    <tr>\n",
       "      <th>Skewness</th>\n",
       "      <td>3.02</td>\n",
       "      <td>3.84</td>\n",
       "      <td>0.65</td>\n",
       "    </tr>\n",
       "    <tr>\n",
       "      <th>Kurtosis</th>\n",
       "      <td>39.00</td>\n",
       "      <td>55.84</td>\n",
       "      <td>12.20</td>\n",
       "    </tr>\n",
       "    <tr>\n",
       "      <th>Worst day return(%)</th>\n",
       "      <td>-3.05</td>\n",
       "      <td>-3.96</td>\n",
       "      <td>-3.31</td>\n",
       "    </tr>\n",
       "    <tr>\n",
       "      <th>Worst 3-month return(%)</th>\n",
       "      <td>2.07</td>\n",
       "      <td>-2.02</td>\n",
       "      <td>-9.18</td>\n",
       "    </tr>\n",
       "    <tr>\n",
       "      <th>Beta</th>\n",
       "      <td>0.00</td>\n",
       "      <td>0.00</td>\n",
       "      <td>0.00</td>\n",
       "    </tr>\n",
       "    <tr>\n",
       "      <th>Annualized Sharpe Ratio</th>\n",
       "      <td>8.87</td>\n",
       "      <td>4.57</td>\n",
       "      <td>0.38</td>\n",
       "    </tr>\n",
       "  </tbody>\n",
       "</table>\n",
       "</div>"
      ],
      "text/plain": [
       "                        Hedged Transact. prices Hedged Quote-midpoints  \\\n",
       "Mean return(% per day)                     0.30                   0.19   \n",
       "Std.dev.(% per day)                        0.54                   0.65   \n",
       "Skewness                                   3.02                   3.84   \n",
       "Kurtosis                                  39.00                  55.84   \n",
       "Worst day return(%)                       -3.05                  -3.96   \n",
       "Worst 3-month return(%)                    2.07                  -2.02   \n",
       "Beta                                       0.00                   0.00   \n",
       "Annualized Sharpe Ratio                    8.87                   4.57   \n",
       "\n",
       "                        Hedged Industry portfolio  \n",
       "Mean return(% per day)                       0.01  \n",
       "Std.dev.(% per day)                          0.54  \n",
       "Skewness                                     0.65  \n",
       "Kurtosis                                    12.20  \n",
       "Worst day return(%)                         -3.31  \n",
       "Worst 3-month return(%)                     -9.18  \n",
       "Beta                                         0.00  \n",
       "Annualized Sharpe Ratio                      0.38  "
      ]
     },
     "execution_count": 18,
     "metadata": {},
     "output_type": "execute_result"
    }
   ],
   "source": [
    "df_stat_B = calc_reversal_strategy.summary_stats(ret_hedged)\n",
    "df_stat_B"
   ]
  },
  {
   "cell_type": "markdown",
   "metadata": {},
   "source": [
    "### __Table 2: Predicting Reversal Strategy Returns with VIX__"
   ]
  },
  {
   "cell_type": "markdown",
   "metadata": {},
   "source": [
    "As above, Table 2 is also replicated with data with time period from January 1998 to December 2010."
   ]
  },
  {
   "cell_type": "markdown",
   "metadata": {},
   "source": [
    "To replicate the prediction of returns from liquidity provision with VIX, we ran a regression of the form\n",
    "\n",
    "$$ L^R_t =a+bVIX_t−5 +c'g_{t−5} +e_t$$"
   ]
  },
  {
   "cell_type": "markdown",
   "metadata": {},
   "source": [
    "- $L^R_t$ is the reversal strategy return on day t.\n",
    "\n",
    "- VIX is lagged by five days to account for the fact that the portfolio weights of the day t reversal strategy are conditioned on returns from days t − 1 to t − 5. In these regressions, the VIX is normalized to a daily volatility measure by dividing it by $\\sqrt{250}$. \n",
    "\n",
    "- To control for effects of the institutional changes associated with decimalization, the control variable vector $g_{t−5}$ includes a dummy variable that takes a value of one prior to decimalization (April 9, 2001) and a value of zero thereafter. $R_M$ is also included in the control variable vector $g_{t−5}$, which is the lagged four-week return on the value-weighted CRSP index up until the end of day t − 5 to capture the dependence of reversal strategy profits on lagged market returns."
   ]
  },
  {
   "cell_type": "markdown",
   "metadata": {},
   "source": [
    "#### 1. Data preparation"
   ]
  },
  {
   "cell_type": "markdown",
   "metadata": {},
   "source": [
    "$L^R_t$: Reversal strategy returns"
   ]
  },
  {
   "cell_type": "code",
   "execution_count": 19,
   "metadata": {},
   "outputs": [],
   "source": [
    "reversal_ret = calc_reversal_strategy.load_reversal_return()\n",
    "reversal_ret.columns = ['trade', 'quote', 'industry']"
   ]
  },
  {
   "cell_type": "markdown",
   "metadata": {},
   "source": [
    "VIX: the CBOE S&P500 implied volatility index\n"
   ]
  },
  {
   "cell_type": "code",
   "execution_count": 20,
   "metadata": {},
   "outputs": [],
   "source": [
    "vix = load_vix.load_vix()\n",
    "vix.columns = ['VIX']"
   ]
  },
  {
   "cell_type": "markdown",
   "metadata": {},
   "source": [
    "$R_M$: the lagged four-week return on the value-weighted CRSP index\n"
   ]
  },
  {
   "cell_type": "code",
   "execution_count": 21,
   "metadata": {},
   "outputs": [],
   "source": [
    "rm = load_CRSP_stock.load_CRSP_index_files()\n",
    "rm = rm.set_index('caldt')[['vwretx']]\n",
    "rm.columns = ['$R_M$']"
   ]
  },
  {
   "cell_type": "markdown",
   "metadata": {},
   "source": [
    "In the daily regressions, the dependent variable is the reversal strategy return on day t (in percent), and the predictor variables are measured at the end of day t − 5. "
   ]
  },
  {
   "cell_type": "code",
   "execution_count": 22,
   "metadata": {},
   "outputs": [
    {
     "data": {
      "text/html": [
       "<div>\n",
       "<style scoped>\n",
       "    .dataframe tbody tr th:only-of-type {\n",
       "        vertical-align: middle;\n",
       "    }\n",
       "\n",
       "    .dataframe tbody tr th {\n",
       "        vertical-align: top;\n",
       "    }\n",
       "\n",
       "    .dataframe thead th {\n",
       "        text-align: right;\n",
       "    }\n",
       "</style>\n",
       "<table border=\"1\" class=\"dataframe\">\n",
       "  <thead>\n",
       "    <tr style=\"text-align: right;\">\n",
       "      <th></th>\n",
       "      <th>trade</th>\n",
       "      <th>quote</th>\n",
       "      <th>industry</th>\n",
       "      <th>VIX</th>\n",
       "      <th>$R_M$</th>\n",
       "      <th>Pre-decim.</th>\n",
       "    </tr>\n",
       "    <tr>\n",
       "      <th>date</th>\n",
       "      <th></th>\n",
       "      <th></th>\n",
       "      <th></th>\n",
       "      <th></th>\n",
       "      <th></th>\n",
       "      <th></th>\n",
       "    </tr>\n",
       "  </thead>\n",
       "  <tbody>\n",
       "    <tr>\n",
       "      <th>1998-02-06</th>\n",
       "      <td>0.464865</td>\n",
       "      <td>0.222191</td>\n",
       "      <td>0.085646</td>\n",
       "      <td>1.357882</td>\n",
       "      <td>0.003725</td>\n",
       "      <td>1.0</td>\n",
       "    </tr>\n",
       "    <tr>\n",
       "      <th>1998-02-09</th>\n",
       "      <td>0.323731</td>\n",
       "      <td>0.160025</td>\n",
       "      <td>0.118470</td>\n",
       "      <td>1.350925</td>\n",
       "      <td>0.020183</td>\n",
       "      <td>1.0</td>\n",
       "    </tr>\n",
       "    <tr>\n",
       "      <th>1998-02-10</th>\n",
       "      <td>0.525014</td>\n",
       "      <td>0.252702</td>\n",
       "      <td>0.183127</td>\n",
       "      <td>1.307286</td>\n",
       "      <td>0.023125</td>\n",
       "      <td>1.0</td>\n",
       "    </tr>\n",
       "    <tr>\n",
       "      <th>1998-02-11</th>\n",
       "      <td>0.595980</td>\n",
       "      <td>0.397696</td>\n",
       "      <td>0.171833</td>\n",
       "      <td>1.299696</td>\n",
       "      <td>0.036387</td>\n",
       "      <td>1.0</td>\n",
       "    </tr>\n",
       "    <tr>\n",
       "      <th>1998-02-12</th>\n",
       "      <td>0.379299</td>\n",
       "      <td>0.038283</td>\n",
       "      <td>0.092732</td>\n",
       "      <td>1.346498</td>\n",
       "      <td>0.039314</td>\n",
       "      <td>1.0</td>\n",
       "    </tr>\n",
       "    <tr>\n",
       "      <th>...</th>\n",
       "      <td>...</td>\n",
       "      <td>...</td>\n",
       "      <td>...</td>\n",
       "      <td>...</td>\n",
       "      <td>...</td>\n",
       "      <td>...</td>\n",
       "    </tr>\n",
       "    <tr>\n",
       "      <th>2010-12-27</th>\n",
       "      <td>-0.268014</td>\n",
       "      <td>-0.376465</td>\n",
       "      <td>0.021103</td>\n",
       "      <td>1.018886</td>\n",
       "      <td>0.042154</td>\n",
       "      <td>0.0</td>\n",
       "    </tr>\n",
       "    <tr>\n",
       "      <th>2010-12-28</th>\n",
       "      <td>0.052037</td>\n",
       "      <td>-0.099845</td>\n",
       "      <td>-0.151843</td>\n",
       "      <td>1.037860</td>\n",
       "      <td>0.040183</td>\n",
       "      <td>0.0</td>\n",
       "    </tr>\n",
       "    <tr>\n",
       "      <th>2010-12-29</th>\n",
       "      <td>0.094361</td>\n",
       "      <td>0.576693</td>\n",
       "      <td>-0.166645</td>\n",
       "      <td>1.042919</td>\n",
       "      <td>0.047954</td>\n",
       "      <td>0.0</td>\n",
       "    </tr>\n",
       "    <tr>\n",
       "      <th>2010-12-30</th>\n",
       "      <td>0.186164</td>\n",
       "      <td>0.348429</td>\n",
       "      <td>-0.158098</td>\n",
       "      <td>0.977144</td>\n",
       "      <td>0.066304</td>\n",
       "      <td>0.0</td>\n",
       "    </tr>\n",
       "    <tr>\n",
       "      <th>2010-12-31</th>\n",
       "      <td>0.026000</td>\n",
       "      <td>0.189581</td>\n",
       "      <td>-0.066325</td>\n",
       "      <td>1.041654</td>\n",
       "      <td>0.048337</td>\n",
       "      <td>0.0</td>\n",
       "    </tr>\n",
       "  </tbody>\n",
       "</table>\n",
       "<p>3247 rows × 6 columns</p>\n",
       "</div>"
      ],
      "text/plain": [
       "               trade     quote  industry       VIX     $R_M$  Pre-decim.\n",
       "date                                                                    \n",
       "1998-02-06  0.464865  0.222191  0.085646  1.357882  0.003725         1.0\n",
       "1998-02-09  0.323731  0.160025  0.118470  1.350925  0.020183         1.0\n",
       "1998-02-10  0.525014  0.252702  0.183127  1.307286  0.023125         1.0\n",
       "1998-02-11  0.595980  0.397696  0.171833  1.299696  0.036387         1.0\n",
       "1998-02-12  0.379299  0.038283  0.092732  1.346498  0.039314         1.0\n",
       "...              ...       ...       ...       ...       ...         ...\n",
       "2010-12-27 -0.268014 -0.376465  0.021103  1.018886  0.042154         0.0\n",
       "2010-12-28  0.052037 -0.099845 -0.151843  1.037860  0.040183         0.0\n",
       "2010-12-29  0.094361  0.576693 -0.166645  1.042919  0.047954         0.0\n",
       "2010-12-30  0.186164  0.348429 -0.158098  0.977144  0.066304         0.0\n",
       "2010-12-31  0.026000  0.189581 -0.066325  1.041654  0.048337         0.0\n",
       "\n",
       "[3247 rows x 6 columns]"
      ]
     },
     "execution_count": 22,
     "metadata": {},
     "output_type": "execute_result"
    }
   ],
   "source": [
    "data = regression_hac.prepare_data(reversal_ret, vix, rm)\n",
    "data"
   ]
  },
  {
   "cell_type": "markdown",
   "metadata": {},
   "source": [
    "In the monthly regressions, the dependent variable is the monthly average of daily reversal strategy returns, and the predictor variables are measured five days before the end of the month preceding the return measurement month."
   ]
  },
  {
   "cell_type": "code",
   "execution_count": 23,
   "metadata": {},
   "outputs": [
    {
     "data": {
      "text/html": [
       "<div>\n",
       "<style scoped>\n",
       "    .dataframe tbody tr th:only-of-type {\n",
       "        vertical-align: middle;\n",
       "    }\n",
       "\n",
       "    .dataframe tbody tr th {\n",
       "        vertical-align: top;\n",
       "    }\n",
       "\n",
       "    .dataframe thead th {\n",
       "        text-align: right;\n",
       "    }\n",
       "</style>\n",
       "<table border=\"1\" class=\"dataframe\">\n",
       "  <thead>\n",
       "    <tr style=\"text-align: right;\">\n",
       "      <th></th>\n",
       "      <th>trade</th>\n",
       "      <th>quote</th>\n",
       "      <th>industry</th>\n",
       "      <th>VIX</th>\n",
       "      <th>$R_M$</th>\n",
       "      <th>Pre-decim.</th>\n",
       "    </tr>\n",
       "    <tr>\n",
       "      <th>date</th>\n",
       "      <th></th>\n",
       "      <th></th>\n",
       "      <th></th>\n",
       "      <th></th>\n",
       "      <th></th>\n",
       "      <th></th>\n",
       "    </tr>\n",
       "  </thead>\n",
       "  <tbody>\n",
       "    <tr>\n",
       "      <th>1998-03-31</th>\n",
       "      <td>0.363103</td>\n",
       "      <td>0.062443</td>\n",
       "      <td>-0.005563</td>\n",
       "      <td>1.201033</td>\n",
       "      <td>0.082434</td>\n",
       "      <td>1.0</td>\n",
       "    </tr>\n",
       "    <tr>\n",
       "      <th>1998-04-30</th>\n",
       "      <td>0.423615</td>\n",
       "      <td>0.148184</td>\n",
       "      <td>-0.006301</td>\n",
       "      <td>1.425555</td>\n",
       "      <td>0.055462</td>\n",
       "      <td>1.0</td>\n",
       "    </tr>\n",
       "    <tr>\n",
       "      <th>1998-05-31</th>\n",
       "      <td>0.548519</td>\n",
       "      <td>0.356511</td>\n",
       "      <td>-0.105370</td>\n",
       "      <td>1.389505</td>\n",
       "      <td>0.007566</td>\n",
       "      <td>1.0</td>\n",
       "    </tr>\n",
       "    <tr>\n",
       "      <th>1998-06-30</th>\n",
       "      <td>0.473279</td>\n",
       "      <td>0.168176</td>\n",
       "      <td>0.038785</td>\n",
       "      <td>1.201033</td>\n",
       "      <td>-0.006794</td>\n",
       "      <td>1.0</td>\n",
       "    </tr>\n",
       "    <tr>\n",
       "      <th>1998-07-31</th>\n",
       "      <td>0.545678</td>\n",
       "      <td>0.327329</td>\n",
       "      <td>-0.095268</td>\n",
       "      <td>1.266176</td>\n",
       "      <td>0.028733</td>\n",
       "      <td>1.0</td>\n",
       "    </tr>\n",
       "    <tr>\n",
       "      <th>...</th>\n",
       "      <td>...</td>\n",
       "      <td>...</td>\n",
       "      <td>...</td>\n",
       "      <td>...</td>\n",
       "      <td>...</td>\n",
       "      <td>...</td>\n",
       "    </tr>\n",
       "    <tr>\n",
       "      <th>2010-08-31</th>\n",
       "      <td>0.248619</td>\n",
       "      <td>0.266113</td>\n",
       "      <td>-0.088449</td>\n",
       "      <td>1.437571</td>\n",
       "      <td>0.032876</td>\n",
       "      <td>0.0</td>\n",
       "    </tr>\n",
       "    <tr>\n",
       "      <th>2010-09-30</th>\n",
       "      <td>0.212807</td>\n",
       "      <td>0.134503</td>\n",
       "      <td>-0.031441</td>\n",
       "      <td>1.688656</td>\n",
       "      <td>-0.044411</td>\n",
       "      <td>0.0</td>\n",
       "    </tr>\n",
       "    <tr>\n",
       "      <th>2010-10-31</th>\n",
       "      <td>0.145113</td>\n",
       "      <td>0.145868</td>\n",
       "      <td>-0.026048</td>\n",
       "      <td>1.373061</td>\n",
       "      <td>0.097271</td>\n",
       "      <td>0.0</td>\n",
       "    </tr>\n",
       "    <tr>\n",
       "      <th>2010-11-30</th>\n",
       "      <td>0.164366</td>\n",
       "      <td>0.111798</td>\n",
       "      <td>-0.027960</td>\n",
       "      <td>1.255424</td>\n",
       "      <td>0.041042</td>\n",
       "      <td>0.0</td>\n",
       "    </tr>\n",
       "    <tr>\n",
       "      <th>2010-12-31</th>\n",
       "      <td>0.082487</td>\n",
       "      <td>0.047121</td>\n",
       "      <td>-0.050161</td>\n",
       "      <td>1.304756</td>\n",
       "      <td>0.000985</td>\n",
       "      <td>0.0</td>\n",
       "    </tr>\n",
       "  </tbody>\n",
       "</table>\n",
       "<p>154 rows × 6 columns</p>\n",
       "</div>"
      ],
      "text/plain": [
       "               trade     quote  industry       VIX     $R_M$  Pre-decim.\n",
       "date                                                                    \n",
       "1998-03-31  0.363103  0.062443 -0.005563  1.201033  0.082434         1.0\n",
       "1998-04-30  0.423615  0.148184 -0.006301  1.425555  0.055462         1.0\n",
       "1998-05-31  0.548519  0.356511 -0.105370  1.389505  0.007566         1.0\n",
       "1998-06-30  0.473279  0.168176  0.038785  1.201033 -0.006794         1.0\n",
       "1998-07-31  0.545678  0.327329 -0.095268  1.266176  0.028733         1.0\n",
       "...              ...       ...       ...       ...       ...         ...\n",
       "2010-08-31  0.248619  0.266113 -0.088449  1.437571  0.032876         0.0\n",
       "2010-09-30  0.212807  0.134503 -0.031441  1.688656 -0.044411         0.0\n",
       "2010-10-31  0.145113  0.145868 -0.026048  1.373061  0.097271         0.0\n",
       "2010-11-30  0.164366  0.111798 -0.027960  1.255424  0.041042         0.0\n",
       "2010-12-31  0.082487  0.047121 -0.050161  1.304756  0.000985         0.0\n",
       "\n",
       "[154 rows x 6 columns]"
      ]
     },
     "execution_count": 23,
     "metadata": {},
     "output_type": "execute_result"
    }
   ],
   "source": [
    "data_m = regression_hac.prepare_data(reversal_ret, vix, rm, to_monthly=True)\n",
    "data_m"
   ]
  },
  {
   "cell_type": "markdown",
   "metadata": {},
   "source": [
    "#### 2. Regression with HAC standard errors\n"
   ]
  },
  {
   "cell_type": "code",
   "execution_count": 24,
   "metadata": {},
   "outputs": [],
   "source": [
    "def regression_all(data, data_m, y_col):\n",
    "    \"\"\"\n",
    "    Run regressions for 4 models\n",
    "    \"\"\"\n",
    "    # VIX\n",
    "    result_vix = regression_hac(data, y_col, ['VIX'])\n",
    "    # VIX + g\n",
    "    result_vix_g = regression_hac(data, y_col, ['VIX', 'Pre-decim.'])\n",
    "    # VIX + g + RM\n",
    "    result_vix_g_rm = regression_hac(data, y_col, ['VIX', 'Pre-decim.', '$R_M$'])\n",
    "    # Monthly\n",
    "    result_monthly = regression_hac(data_m, y_col, ['VIX', 'Pre-decim.', '$R_M$'], maxlags=3)\n",
    "    \n",
    "    return [result_vix, result_vix_g, result_vix_g_rm, result_monthly]"
   ]
  },
  {
   "cell_type": "markdown",
   "metadata": {},
   "source": [
    "#### 3. Table 2 Replication"
   ]
  },
  {
   "cell_type": "code",
   "execution_count": 25,
   "metadata": {},
   "outputs": [
    {
     "data": {
      "text/html": [
       "<div>\n",
       "<style scoped>\n",
       "    .dataframe tbody tr th:only-of-type {\n",
       "        vertical-align: middle;\n",
       "    }\n",
       "\n",
       "    .dataframe tbody tr th {\n",
       "        vertical-align: top;\n",
       "    }\n",
       "\n",
       "    .dataframe thead tr th {\n",
       "        text-align: left;\n",
       "    }\n",
       "</style>\n",
       "<table border=\"1\" class=\"dataframe\">\n",
       "  <thead>\n",
       "    <tr>\n",
       "      <th></th>\n",
       "      <th colspan=\"4\" halign=\"left\">\\makecell{Individual stocks\\\\Transaction-price returns}</th>\n",
       "      <th colspan=\"4\" halign=\"left\">\\makecell{Individual stocks\\\\Quote-midpoint returns}</th>\n",
       "      <th colspan=\"4\" halign=\"left\">\\makecell{Industry\\\\portfolios}</th>\n",
       "    </tr>\n",
       "    <tr>\n",
       "      <th></th>\n",
       "      <th colspan=\"3\" halign=\"left\">Daily</th>\n",
       "      <th>Monthly</th>\n",
       "      <th colspan=\"3\" halign=\"left\">Daily</th>\n",
       "      <th>Monthly</th>\n",
       "      <th colspan=\"3\" halign=\"left\">Daily</th>\n",
       "      <th>Monthly</th>\n",
       "    </tr>\n",
       "    <tr>\n",
       "      <th></th>\n",
       "      <th>(1)</th>\n",
       "      <th>(2)</th>\n",
       "      <th>(3)</th>\n",
       "      <th>(4)</th>\n",
       "      <th>(5)</th>\n",
       "      <th>(6)</th>\n",
       "      <th>(7)</th>\n",
       "      <th>(8)</th>\n",
       "      <th>(9)</th>\n",
       "      <th>(10)</th>\n",
       "      <th>(11)</th>\n",
       "      <th>(12)</th>\n",
       "    </tr>\n",
       "  </thead>\n",
       "  <tbody>\n",
       "    <tr>\n",
       "      <th>Intercept</th>\n",
       "      <td>-0.06</td>\n",
       "      <td>-0.09</td>\n",
       "      <td>-0.06</td>\n",
       "      <td>-0.01</td>\n",
       "      <td>-0.06</td>\n",
       "      <td>-0.08</td>\n",
       "      <td>-0.03</td>\n",
       "      <td>0.00</td>\n",
       "      <td>-0.10</td>\n",
       "      <td>-0.10</td>\n",
       "      <td>-0.07</td>\n",
       "      <td>-0.04</td>\n",
       "    </tr>\n",
       "    <tr>\n",
       "      <th></th>\n",
       "      <td>(0.03)</td>\n",
       "      <td>(0.02)</td>\n",
       "      <td>(0.03)</td>\n",
       "      <td>(0.02)</td>\n",
       "      <td>(0.03)</td>\n",
       "      <td>(0.03)</td>\n",
       "      <td>(0.04)</td>\n",
       "      <td>(0.03)</td>\n",
       "      <td>(0.03)</td>\n",
       "      <td>(0.03)</td>\n",
       "      <td>(0.03)</td>\n",
       "      <td>(0.02)</td>\n",
       "    </tr>\n",
       "    <tr>\n",
       "      <th>VIX</th>\n",
       "      <td>0.25</td>\n",
       "      <td>0.23</td>\n",
       "      <td>0.21</td>\n",
       "      <td>0.18</td>\n",
       "      <td>0.18</td>\n",
       "      <td>0.17</td>\n",
       "      <td>0.14</td>\n",
       "      <td>0.11</td>\n",
       "      <td>0.08</td>\n",
       "      <td>0.08</td>\n",
       "      <td>0.06</td>\n",
       "      <td>0.04</td>\n",
       "    </tr>\n",
       "    <tr>\n",
       "      <th></th>\n",
       "      <td>(0.02)</td>\n",
       "      <td>(0.02)</td>\n",
       "      <td>(0.02)</td>\n",
       "      <td>(0.01)</td>\n",
       "      <td>(0.03)</td>\n",
       "      <td>(0.03)</td>\n",
       "      <td>(0.03)</td>\n",
       "      <td>(0.02)</td>\n",
       "      <td>(0.02)</td>\n",
       "      <td>(0.02)</td>\n",
       "      <td>(0.02)</td>\n",
       "      <td>(0.01)</td>\n",
       "    </tr>\n",
       "    <tr>\n",
       "      <th>Pre-decim.</th>\n",
       "      <td></td>\n",
       "      <td>0.23</td>\n",
       "      <td>0.24</td>\n",
       "      <td>0.25</td>\n",
       "      <td></td>\n",
       "      <td>0.10</td>\n",
       "      <td>0.11</td>\n",
       "      <td>0.12</td>\n",
       "      <td></td>\n",
       "      <td>0.01</td>\n",
       "      <td>0.01</td>\n",
       "      <td>0.02</td>\n",
       "    </tr>\n",
       "    <tr>\n",
       "      <th></th>\n",
       "      <td></td>\n",
       "      <td>(0.03)</td>\n",
       "      <td>(0.03)</td>\n",
       "      <td>(0.03)</td>\n",
       "      <td></td>\n",
       "      <td>(0.03)</td>\n",
       "      <td>(0.03)</td>\n",
       "      <td>(0.03)</td>\n",
       "      <td></td>\n",
       "      <td>(0.02)</td>\n",
       "      <td>(0.02)</td>\n",
       "      <td>(0.02)</td>\n",
       "    </tr>\n",
       "    <tr>\n",
       "      <th>$R_M$</th>\n",
       "      <td></td>\n",
       "      <td></td>\n",
       "      <td>-0.45</td>\n",
       "      <td>0.10</td>\n",
       "      <td></td>\n",
       "      <td></td>\n",
       "      <td>-0.79</td>\n",
       "      <td>-0.30</td>\n",
       "      <td></td>\n",
       "      <td></td>\n",
       "      <td>-0.57</td>\n",
       "      <td>-0.21</td>\n",
       "    </tr>\n",
       "    <tr>\n",
       "      <th></th>\n",
       "      <td></td>\n",
       "      <td></td>\n",
       "      <td>(0.19)</td>\n",
       "      <td>(0.23)</td>\n",
       "      <td></td>\n",
       "      <td></td>\n",
       "      <td>(0.23)</td>\n",
       "      <td>(0.26)</td>\n",
       "      <td></td>\n",
       "      <td></td>\n",
       "      <td>(0.21)</td>\n",
       "      <td>(0.16)</td>\n",
       "    </tr>\n",
       "    <tr>\n",
       "      <th>Adj. $R^2$</th>\n",
       "      <td>0.07</td>\n",
       "      <td>0.10</td>\n",
       "      <td>0.10</td>\n",
       "      <td>0.65</td>\n",
       "      <td>0.02</td>\n",
       "      <td>0.03</td>\n",
       "      <td>0.03</td>\n",
       "      <td>0.27</td>\n",
       "      <td>0.01</td>\n",
       "      <td>0.01</td>\n",
       "      <td>0.01</td>\n",
       "      <td>0.07</td>\n",
       "    </tr>\n",
       "  </tbody>\n",
       "</table>\n",
       "</div>"
      ],
      "text/plain": [
       "           \\makecell{Individual stocks\\\\Transaction-price returns}          \\\n",
       "                                                             Daily           \n",
       "                                                               (1)     (2)   \n",
       "Intercept                                               -0.06        -0.09   \n",
       "                                                       (0.03)       (0.02)   \n",
       "VIX                                                      0.25         0.23   \n",
       "                                                       (0.02)       (0.02)   \n",
       "Pre-decim.                                                            0.23   \n",
       "                                                                    (0.03)   \n",
       "$R_M$                                                                        \n",
       "                                                                             \n",
       "Adj. $R^2$                                               0.07         0.10   \n",
       "\n",
       "                            \\\n",
       "                   Monthly   \n",
       "               (3)     (4)   \n",
       "Intercept    -0.06   -0.01   \n",
       "            (0.03)  (0.02)   \n",
       "VIX           0.21    0.18   \n",
       "            (0.02)  (0.01)   \n",
       "Pre-decim.    0.24    0.25   \n",
       "            (0.03)  (0.03)   \n",
       "$R_M$        -0.45    0.10   \n",
       "            (0.19)  (0.23)   \n",
       "Adj. $R^2$    0.10    0.65   \n",
       "\n",
       "           \\makecell{Individual stocks\\\\Quote-midpoint returns}          \\\n",
       "                                                          Daily           \n",
       "                                                            (5)     (6)   \n",
       "Intercept                                               -0.06     -0.08   \n",
       "                                                       (0.03)    (0.03)   \n",
       "VIX                                                      0.18      0.17   \n",
       "                                                       (0.03)    (0.03)   \n",
       "Pre-decim.                                                         0.10   \n",
       "                                                                 (0.03)   \n",
       "$R_M$                                                                     \n",
       "                                                                          \n",
       "Adj. $R^2$                                               0.02      0.03   \n",
       "\n",
       "                           \\makecell{Industry\\\\portfolios}                  \\\n",
       "                   Monthly                           Daily                   \n",
       "               (7)     (8)                             (9)    (10)    (11)   \n",
       "Intercept    -0.03    0.00                           -0.10   -0.10   -0.07   \n",
       "            (0.04)  (0.03)                          (0.03)  (0.03)  (0.03)   \n",
       "VIX           0.14    0.11                            0.08    0.08    0.06   \n",
       "            (0.03)  (0.02)                          (0.02)  (0.02)  (0.02)   \n",
       "Pre-decim.    0.11    0.12                                    0.01    0.01   \n",
       "            (0.03)  (0.03)                                  (0.02)  (0.02)   \n",
       "$R_M$        -0.79   -0.30                                           -0.57   \n",
       "            (0.23)  (0.26)                                          (0.21)   \n",
       "Adj. $R^2$    0.03    0.27                            0.01    0.01    0.01   \n",
       "\n",
       "                    \n",
       "           Monthly  \n",
       "              (12)  \n",
       "Intercept    -0.04  \n",
       "            (0.02)  \n",
       "VIX           0.04  \n",
       "            (0.01)  \n",
       "Pre-decim.    0.02  \n",
       "            (0.02)  \n",
       "$R_M$        -0.21  \n",
       "            (0.16)  \n",
       "Adj. $R^2$    0.07  "
      ]
     },
     "execution_count": 25,
     "metadata": {},
     "output_type": "execute_result"
    }
   ],
   "source": [
    "table = regression_hac.generate_table(data, data_m)\n",
    "table"
   ]
  },
  {
   "cell_type": "markdown",
   "metadata": {},
   "source": [
    "Note: Newey-West HAC standard errors (with 20 lags for daily data and 3 lags for monthly data) are reported in parentheses."
   ]
  },
  {
   "cell_type": "markdown",
   "metadata": {},
   "source": [
    "---"
   ]
  },
  {
   "cell_type": "markdown",
   "metadata": {},
   "source": [
    "## Table Reproduction"
   ]
  },
  {
   "cell_type": "markdown",
   "metadata": {},
   "source": [
    "Here, we reproduce tables with updated data until December 2023."
   ]
  },
  {
   "cell_type": "markdown",
   "metadata": {},
   "source": [
    "### Table 1: Summary Statistics of Reversal Strategy Returns"
   ]
  },
  {
   "cell_type": "markdown",
   "metadata": {},
   "source": [
    "#### Panel A. Raw returns"
   ]
  },
  {
   "cell_type": "code",
   "execution_count": 26,
   "metadata": {},
   "outputs": [
    {
     "data": {
      "text/html": [
       "<div>\n",
       "<style scoped>\n",
       "    .dataframe tbody tr th:only-of-type {\n",
       "        vertical-align: middle;\n",
       "    }\n",
       "\n",
       "    .dataframe tbody tr th {\n",
       "        vertical-align: top;\n",
       "    }\n",
       "\n",
       "    .dataframe thead th {\n",
       "        text-align: right;\n",
       "    }\n",
       "</style>\n",
       "<table border=\"1\" class=\"dataframe\">\n",
       "  <thead>\n",
       "    <tr style=\"text-align: right;\">\n",
       "      <th></th>\n",
       "      <th>Transact. prices</th>\n",
       "      <th>Quote-midpoints</th>\n",
       "      <th>Industry portfolio</th>\n",
       "    </tr>\n",
       "  </thead>\n",
       "  <tbody>\n",
       "    <tr>\n",
       "      <th>count</th>\n",
       "      <td>6541.000000</td>\n",
       "      <td>6541.000000</td>\n",
       "      <td>6541.000000</td>\n",
       "    </tr>\n",
       "    <tr>\n",
       "      <th>mean</th>\n",
       "      <td>0.226815</td>\n",
       "      <td>0.159247</td>\n",
       "      <td>0.010462</td>\n",
       "    </tr>\n",
       "    <tr>\n",
       "      <th>std</th>\n",
       "      <td>0.668043</td>\n",
       "      <td>0.771905</td>\n",
       "      <td>0.517516</td>\n",
       "    </tr>\n",
       "    <tr>\n",
       "      <th>min</th>\n",
       "      <td>-12.435835</td>\n",
       "      <td>-7.490985</td>\n",
       "      <td>-3.699509</td>\n",
       "    </tr>\n",
       "    <tr>\n",
       "      <th>25%</th>\n",
       "      <td>-0.046301</td>\n",
       "      <td>-0.143267</td>\n",
       "      <td>-0.212210</td>\n",
       "    </tr>\n",
       "    <tr>\n",
       "      <th>50%</th>\n",
       "      <td>0.187188</td>\n",
       "      <td>0.121574</td>\n",
       "      <td>0.000655</td>\n",
       "    </tr>\n",
       "    <tr>\n",
       "      <th>75%</th>\n",
       "      <td>0.449608</td>\n",
       "      <td>0.406763</td>\n",
       "      <td>0.206637</td>\n",
       "    </tr>\n",
       "    <tr>\n",
       "      <th>max</th>\n",
       "      <td>9.819708</td>\n",
       "      <td>22.526910</td>\n",
       "      <td>4.925304</td>\n",
       "    </tr>\n",
       "  </tbody>\n",
       "</table>\n",
       "</div>"
      ],
      "text/plain": [
       "       Transact. prices  Quote-midpoints  Industry portfolio\n",
       "count       6541.000000      6541.000000         6541.000000\n",
       "mean           0.226815         0.159247            0.010462\n",
       "std            0.668043         0.771905            0.517516\n",
       "min          -12.435835        -7.490985           -3.699509\n",
       "25%           -0.046301        -0.143267           -0.212210\n",
       "50%            0.187188         0.121574            0.000655\n",
       "75%            0.449608         0.406763            0.206637\n",
       "max            9.819708        22.526910            4.925304"
      ]
     },
     "execution_count": 26,
     "metadata": {},
     "output_type": "execute_result"
    }
   ],
   "source": [
    "ret_raw_new = calc_reversal_strategy.load_reversal_return(data_dir=DATA_DIR, reproduce=True)\n",
    "ret_raw_new.describe()"
   ]
  },
  {
   "cell_type": "code",
   "execution_count": 27,
   "metadata": {},
   "outputs": [
    {
     "data": {
      "image/png": "[encoded data removed]",
      "text/plain": [
       "<Figure size 800x800 with 3 Axes>"
      ]
     },
     "metadata": {},
     "output_type": "display_data"
    }
   ],
   "source": [
    "ret_raw_new.plot(subplots=True, figsize=(8, 8));"
   ]
  },
  {
   "cell_type": "markdown",
   "metadata": {},
   "source": [
    "#### Reproduction of Table 1A"
   ]
  },
  {
   "cell_type": "code",
   "execution_count": 28,
   "metadata": {},
   "outputs": [
    {
     "data": {
      "text/html": [
       "<div>\n",
       "<style scoped>\n",
       "    .dataframe tbody tr th:only-of-type {\n",
       "        vertical-align: middle;\n",
       "    }\n",
       "\n",
       "    .dataframe tbody tr th {\n",
       "        vertical-align: top;\n",
       "    }\n",
       "\n",
       "    .dataframe thead th {\n",
       "        text-align: right;\n",
       "    }\n",
       "</style>\n",
       "<table border=\"1\" class=\"dataframe\">\n",
       "  <thead>\n",
       "    <tr style=\"text-align: right;\">\n",
       "      <th></th>\n",
       "      <th>Transact. prices</th>\n",
       "      <th>Quote-midpoints</th>\n",
       "      <th>Industry portfolio</th>\n",
       "    </tr>\n",
       "  </thead>\n",
       "  <tbody>\n",
       "    <tr>\n",
       "      <th>Mean return(% per day)</th>\n",
       "      <td>0.23</td>\n",
       "      <td>0.16</td>\n",
       "      <td>0.01</td>\n",
       "    </tr>\n",
       "    <tr>\n",
       "      <th>Std.dev.(% per day)</th>\n",
       "      <td>0.67</td>\n",
       "      <td>0.77</td>\n",
       "      <td>0.52</td>\n",
       "    </tr>\n",
       "    <tr>\n",
       "      <th>Skewness</th>\n",
       "      <td>-0.51</td>\n",
       "      <td>4.98</td>\n",
       "      <td>0.70</td>\n",
       "    </tr>\n",
       "    <tr>\n",
       "      <th>Kurtosis</th>\n",
       "      <td>48.95</td>\n",
       "      <td>136.81</td>\n",
       "      <td>14.53</td>\n",
       "    </tr>\n",
       "    <tr>\n",
       "      <th>Worst day return(%)</th>\n",
       "      <td>-12.44</td>\n",
       "      <td>-7.49</td>\n",
       "      <td>-3.70</td>\n",
       "    </tr>\n",
       "    <tr>\n",
       "      <th>Worst 3-month return(%)</th>\n",
       "      <td>-7.54</td>\n",
       "      <td>-9.33</td>\n",
       "      <td>-12.17</td>\n",
       "    </tr>\n",
       "    <tr>\n",
       "      <th>Beta</th>\n",
       "      <td>0.12</td>\n",
       "      <td>0.10</td>\n",
       "      <td>0.09</td>\n",
       "    </tr>\n",
       "    <tr>\n",
       "      <th>Annualized Sharpe Ratio</th>\n",
       "      <td>5.39</td>\n",
       "      <td>3.27</td>\n",
       "      <td>0.32</td>\n",
       "    </tr>\n",
       "  </tbody>\n",
       "</table>\n",
       "</div>"
      ],
      "text/plain": [
       "                        Transact. prices Quote-midpoints Industry portfolio\n",
       "Mean return(% per day)              0.23            0.16               0.01\n",
       "Std.dev.(% per day)                 0.67            0.77               0.52\n",
       "Skewness                           -0.51            4.98               0.70\n",
       "Kurtosis                           48.95          136.81              14.53\n",
       "Worst day return(%)               -12.44           -7.49              -3.70\n",
       "Worst 3-month return(%)            -7.54           -9.33             -12.17\n",
       "Beta                                0.12            0.10               0.09\n",
       "Annualized Sharpe Ratio             5.39            3.27               0.32"
      ]
     },
     "execution_count": 28,
     "metadata": {},
     "output_type": "execute_result"
    }
   ],
   "source": [
    "df_stat_A_new = calc_reversal_strategy.summary_stats(ret_raw_new, reproduce=True)\n",
    "df_stat_A_new\n"
   ]
  },
  {
   "cell_type": "markdown",
   "metadata": {},
   "source": [
    "#### Panel B. Returns hedged for conditional market"
   ]
  },
  {
   "cell_type": "code",
   "execution_count": 29,
   "metadata": {},
   "outputs": [
    {
     "data": {
      "text/html": [
       "<div>\n",
       "<style scoped>\n",
       "    .dataframe tbody tr th:only-of-type {\n",
       "        vertical-align: middle;\n",
       "    }\n",
       "\n",
       "    .dataframe tbody tr th {\n",
       "        vertical-align: top;\n",
       "    }\n",
       "\n",
       "    .dataframe thead th {\n",
       "        text-align: right;\n",
       "    }\n",
       "</style>\n",
       "<table border=\"1\" class=\"dataframe\">\n",
       "  <thead>\n",
       "    <tr style=\"text-align: right;\">\n",
       "      <th></th>\n",
       "      <th>Hedged Transact. prices</th>\n",
       "      <th>Hedged Quote-midpoints</th>\n",
       "      <th>Hedged Industry portfolio</th>\n",
       "    </tr>\n",
       "  </thead>\n",
       "  <tbody>\n",
       "    <tr>\n",
       "      <th>count</th>\n",
       "      <td>6541.000000</td>\n",
       "      <td>6541.000000</td>\n",
       "      <td>6541.000000</td>\n",
       "    </tr>\n",
       "    <tr>\n",
       "      <th>mean</th>\n",
       "      <td>0.222346</td>\n",
       "      <td>0.155463</td>\n",
       "      <td>0.006958</td>\n",
       "    </tr>\n",
       "    <tr>\n",
       "      <th>std</th>\n",
       "      <td>0.649029</td>\n",
       "      <td>0.760231</td>\n",
       "      <td>0.502595</td>\n",
       "    </tr>\n",
       "    <tr>\n",
       "      <th>min</th>\n",
       "      <td>-12.468568</td>\n",
       "      <td>-7.482404</td>\n",
       "      <td>-3.302789</td>\n",
       "    </tr>\n",
       "    <tr>\n",
       "      <th>25%</th>\n",
       "      <td>-0.048768</td>\n",
       "      <td>-0.147860</td>\n",
       "      <td>-0.216632</td>\n",
       "    </tr>\n",
       "    <tr>\n",
       "      <th>50%</th>\n",
       "      <td>0.184247</td>\n",
       "      <td>0.117841</td>\n",
       "      <td>-0.008990</td>\n",
       "    </tr>\n",
       "    <tr>\n",
       "      <th>75%</th>\n",
       "      <td>0.448183</td>\n",
       "      <td>0.408307</td>\n",
       "      <td>0.207582</td>\n",
       "    </tr>\n",
       "    <tr>\n",
       "      <th>max</th>\n",
       "      <td>9.570218</td>\n",
       "      <td>22.812476</td>\n",
       "      <td>4.250488</td>\n",
       "    </tr>\n",
       "  </tbody>\n",
       "</table>\n",
       "</div>"
      ],
      "text/plain": [
       "       Hedged Transact. prices  Hedged Quote-midpoints  \\\n",
       "count              6541.000000             6541.000000   \n",
       "mean                  0.222346                0.155463   \n",
       "std                   0.649029                0.760231   \n",
       "min                 -12.468568               -7.482404   \n",
       "25%                  -0.048768               -0.147860   \n",
       "50%                   0.184247                0.117841   \n",
       "75%                   0.448183                0.408307   \n",
       "max                   9.570218               22.812476   \n",
       "\n",
       "       Hedged Industry portfolio  \n",
       "count                6541.000000  \n",
       "mean                    0.006958  \n",
       "std                     0.502595  \n",
       "min                    -3.302789  \n",
       "25%                    -0.216632  \n",
       "50%                    -0.008990  \n",
       "75%                     0.207582  \n",
       "max                     4.250488  "
      ]
     },
     "execution_count": 29,
     "metadata": {},
     "output_type": "execute_result"
    }
   ],
   "source": [
    "ret_hedged_new = calc_reversal_strategy.load_reversal_return(data_dir=DATA_DIR, hedged=True, reproduce=True)\n",
    "ret_hedged_new.describe()"
   ]
  },
  {
   "cell_type": "code",
   "execution_count": 30,
   "metadata": {},
   "outputs": [
    {
     "data": {
      "image/png": "[encoded data removed]",
      "text/plain": [
       "<Figure size 800x800 with 3 Axes>"
      ]
     },
     "metadata": {},
     "output_type": "display_data"
    }
   ],
   "source": [
    "ret_hedged_new.plot(subplots=True, figsize=(8, 8));"
   ]
  },
  {
   "cell_type": "markdown",
   "metadata": {},
   "source": [
    "#### Reproduction of Table 1B"
   ]
  },
  {
   "cell_type": "code",
   "execution_count": 31,
   "metadata": {},
   "outputs": [
    {
     "data": {
      "text/html": [
       "<div>\n",
       "<style scoped>\n",
       "    .dataframe tbody tr th:only-of-type {\n",
       "        vertical-align: middle;\n",
       "    }\n",
       "\n",
       "    .dataframe tbody tr th {\n",
       "        vertical-align: top;\n",
       "    }\n",
       "\n",
       "    .dataframe thead th {\n",
       "        text-align: right;\n",
       "    }\n",
       "</style>\n",
       "<table border=\"1\" class=\"dataframe\">\n",
       "  <thead>\n",
       "    <tr style=\"text-align: right;\">\n",
       "      <th></th>\n",
       "      <th>Hedged Transact. prices</th>\n",
       "      <th>Hedged Quote-midpoints</th>\n",
       "      <th>Hedged Industry portfolio</th>\n",
       "    </tr>\n",
       "  </thead>\n",
       "  <tbody>\n",
       "    <tr>\n",
       "      <th>Mean return(% per day)</th>\n",
       "      <td>0.22</td>\n",
       "      <td>0.16</td>\n",
       "      <td>0.01</td>\n",
       "    </tr>\n",
       "    <tr>\n",
       "      <th>Std.dev.(% per day)</th>\n",
       "      <td>0.65</td>\n",
       "      <td>0.76</td>\n",
       "      <td>0.50</td>\n",
       "    </tr>\n",
       "    <tr>\n",
       "      <th>Skewness</th>\n",
       "      <td>-0.72</td>\n",
       "      <td>5.40</td>\n",
       "      <td>0.64</td>\n",
       "    </tr>\n",
       "    <tr>\n",
       "      <th>Kurtosis</th>\n",
       "      <td>52.57</td>\n",
       "      <td>152.26</td>\n",
       "      <td>12.62</td>\n",
       "    </tr>\n",
       "    <tr>\n",
       "      <th>Worst day return(%)</th>\n",
       "      <td>-12.47</td>\n",
       "      <td>-7.48</td>\n",
       "      <td>-3.30</td>\n",
       "    </tr>\n",
       "    <tr>\n",
       "      <th>Worst 3-month return(%)</th>\n",
       "      <td>-5.40</td>\n",
       "      <td>-9.49</td>\n",
       "      <td>-10.05</td>\n",
       "    </tr>\n",
       "    <tr>\n",
       "      <th>Beta</th>\n",
       "      <td>0.00</td>\n",
       "      <td>-0.00</td>\n",
       "      <td>-0.00</td>\n",
       "    </tr>\n",
       "    <tr>\n",
       "      <th>Annualized Sharpe Ratio</th>\n",
       "      <td>5.44</td>\n",
       "      <td>3.25</td>\n",
       "      <td>0.22</td>\n",
       "    </tr>\n",
       "  </tbody>\n",
       "</table>\n",
       "</div>"
      ],
      "text/plain": [
       "                        Hedged Transact. prices Hedged Quote-midpoints  \\\n",
       "Mean return(% per day)                     0.22                   0.16   \n",
       "Std.dev.(% per day)                        0.65                   0.76   \n",
       "Skewness                                  -0.72                   5.40   \n",
       "Kurtosis                                  52.57                 152.26   \n",
       "Worst day return(%)                      -12.47                  -7.48   \n",
       "Worst 3-month return(%)                   -5.40                  -9.49   \n",
       "Beta                                       0.00                  -0.00   \n",
       "Annualized Sharpe Ratio                    5.44                   3.25   \n",
       "\n",
       "                        Hedged Industry portfolio  \n",
       "Mean return(% per day)                       0.01  \n",
       "Std.dev.(% per day)                          0.50  \n",
       "Skewness                                     0.64  \n",
       "Kurtosis                                    12.62  \n",
       "Worst day return(%)                         -3.30  \n",
       "Worst 3-month return(%)                    -10.05  \n",
       "Beta                                        -0.00  \n",
       "Annualized Sharpe Ratio                      0.22  "
      ]
     },
     "execution_count": 31,
     "metadata": {},
     "output_type": "execute_result"
    }
   ],
   "source": [
    "df_stat_B_new = calc_reversal_strategy.summary_stats(ret_hedged_new, reproduce=True)\n",
    "df_stat_B_new"
   ]
  },
  {
   "cell_type": "markdown",
   "metadata": {},
   "source": [
    "### Table 2: Predicting Reversal Strategy Returns with VIX"
   ]
  },
  {
   "cell_type": "markdown",
   "metadata": {},
   "source": [
    "#### Table 2 Reproduction"
   ]
  },
  {
   "cell_type": "code",
   "execution_count": 32,
   "metadata": {},
   "outputs": [],
   "source": [
    "reversal_ret_new = calc_reversal_strategy.load_reversal_return(reproduce=True)\n",
    "reversal_ret_new.columns = ['trade', 'quote', 'industry']"
   ]
  },
  {
   "cell_type": "code",
   "execution_count": 33,
   "metadata": {},
   "outputs": [],
   "source": [
    "data_new = regression_hac.prepare_data(reversal_ret_new, vix, rm)\n",
    "data_m_new = regression_hac.prepare_data(reversal_ret_new, vix, rm, to_monthly=True)\n"
   ]
  },
  {
   "cell_type": "code",
   "execution_count": 34,
   "metadata": {},
   "outputs": [
    {
     "data": {
      "text/html": [
       "<div>\n",
       "<style scoped>\n",
       "    .dataframe tbody tr th:only-of-type {\n",
       "        vertical-align: middle;\n",
       "    }\n",
       "\n",
       "    .dataframe tbody tr th {\n",
       "        vertical-align: top;\n",
       "    }\n",
       "\n",
       "    .dataframe thead tr th {\n",
       "        text-align: left;\n",
       "    }\n",
       "</style>\n",
       "<table border=\"1\" class=\"dataframe\">\n",
       "  <thead>\n",
       "    <tr>\n",
       "      <th></th>\n",
       "      <th colspan=\"4\" halign=\"left\">\\makecell{Individual stocks\\\\Transaction-price returns}</th>\n",
       "      <th colspan=\"4\" halign=\"left\">\\makecell{Individual stocks\\\\Quote-midpoint returns}</th>\n",
       "      <th colspan=\"4\" halign=\"left\">\\makecell{Industry\\\\portfolios}</th>\n",
       "    </tr>\n",
       "    <tr>\n",
       "      <th></th>\n",
       "      <th colspan=\"3\" halign=\"left\">Daily</th>\n",
       "      <th>Monthly</th>\n",
       "      <th colspan=\"3\" halign=\"left\">Daily</th>\n",
       "      <th>Monthly</th>\n",
       "      <th colspan=\"3\" halign=\"left\">Daily</th>\n",
       "      <th>Monthly</th>\n",
       "    </tr>\n",
       "    <tr>\n",
       "      <th></th>\n",
       "      <th>(1)</th>\n",
       "      <th>(2)</th>\n",
       "      <th>(3)</th>\n",
       "      <th>(4)</th>\n",
       "      <th>(5)</th>\n",
       "      <th>(6)</th>\n",
       "      <th>(7)</th>\n",
       "      <th>(8)</th>\n",
       "      <th>(9)</th>\n",
       "      <th>(10)</th>\n",
       "      <th>(11)</th>\n",
       "      <th>(12)</th>\n",
       "    </tr>\n",
       "  </thead>\n",
       "  <tbody>\n",
       "    <tr>\n",
       "      <th>Intercept</th>\n",
       "      <td>-0.08</td>\n",
       "      <td>-0.08</td>\n",
       "      <td>-0.05</td>\n",
       "      <td>-0.01</td>\n",
       "      <td>-0.09</td>\n",
       "      <td>-0.09</td>\n",
       "      <td>-0.06</td>\n",
       "      <td>-0.02</td>\n",
       "      <td>-0.09</td>\n",
       "      <td>-0.09</td>\n",
       "      <td>-0.07</td>\n",
       "      <td>-0.06</td>\n",
       "    </tr>\n",
       "    <tr>\n",
       "      <th></th>\n",
       "      <td>(0.02)</td>\n",
       "      <td>(0.03)</td>\n",
       "      <td>(0.02)</td>\n",
       "      <td>(0.02)</td>\n",
       "      <td>(0.03)</td>\n",
       "      <td>(0.03)</td>\n",
       "      <td>(0.03)</td>\n",
       "      <td>(0.03)</td>\n",
       "      <td>(0.02)</td>\n",
       "      <td>(0.02)</td>\n",
       "      <td>(0.02)</td>\n",
       "      <td>(0.02)</td>\n",
       "    </tr>\n",
       "    <tr>\n",
       "      <th>VIX</th>\n",
       "      <td>0.24</td>\n",
       "      <td>0.21</td>\n",
       "      <td>0.19</td>\n",
       "      <td>0.15</td>\n",
       "      <td>0.19</td>\n",
       "      <td>0.18</td>\n",
       "      <td>0.17</td>\n",
       "      <td>0.12</td>\n",
       "      <td>0.08</td>\n",
       "      <td>0.08</td>\n",
       "      <td>0.07</td>\n",
       "      <td>0.05</td>\n",
       "    </tr>\n",
       "    <tr>\n",
       "      <th></th>\n",
       "      <td>(0.02)</td>\n",
       "      <td>(0.02)</td>\n",
       "      <td>(0.02)</td>\n",
       "      <td>(0.02)</td>\n",
       "      <td>(0.02)</td>\n",
       "      <td>(0.03)</td>\n",
       "      <td>(0.02)</td>\n",
       "      <td>(0.03)</td>\n",
       "      <td>(0.02)</td>\n",
       "      <td>(0.02)</td>\n",
       "      <td>(0.02)</td>\n",
       "      <td>(0.01)</td>\n",
       "    </tr>\n",
       "    <tr>\n",
       "      <th>Pre-decim.</th>\n",
       "      <td></td>\n",
       "      <td>0.26</td>\n",
       "      <td>0.27</td>\n",
       "      <td>0.28</td>\n",
       "      <td></td>\n",
       "      <td>0.09</td>\n",
       "      <td>0.10</td>\n",
       "      <td>0.12</td>\n",
       "      <td></td>\n",
       "      <td>0.00</td>\n",
       "      <td>0.00</td>\n",
       "      <td>0.01</td>\n",
       "    </tr>\n",
       "    <tr>\n",
       "      <th></th>\n",
       "      <td></td>\n",
       "      <td>(0.03)</td>\n",
       "      <td>(0.03)</td>\n",
       "      <td>(0.03)</td>\n",
       "      <td></td>\n",
       "      <td>(0.03)</td>\n",
       "      <td>(0.03)</td>\n",
       "      <td>(0.03)</td>\n",
       "      <td></td>\n",
       "      <td>(0.02)</td>\n",
       "      <td>(0.02)</td>\n",
       "      <td>(0.02)</td>\n",
       "    </tr>\n",
       "    <tr>\n",
       "      <th>$R_M$</th>\n",
       "      <td></td>\n",
       "      <td></td>\n",
       "      <td>-0.39</td>\n",
       "      <td>0.03</td>\n",
       "      <td></td>\n",
       "      <td></td>\n",
       "      <td>-0.47</td>\n",
       "      <td>-0.04</td>\n",
       "      <td></td>\n",
       "      <td></td>\n",
       "      <td>-0.24</td>\n",
       "      <td>-0.03</td>\n",
       "    </tr>\n",
       "    <tr>\n",
       "      <th></th>\n",
       "      <td></td>\n",
       "      <td></td>\n",
       "      <td>(0.17)</td>\n",
       "      <td>(0.18)</td>\n",
       "      <td></td>\n",
       "      <td></td>\n",
       "      <td>(0.23)</td>\n",
       "      <td>(0.26)</td>\n",
       "      <td></td>\n",
       "      <td></td>\n",
       "      <td>(0.16)</td>\n",
       "      <td>(0.13)</td>\n",
       "    </tr>\n",
       "    <tr>\n",
       "      <th>Adj. $R^2$</th>\n",
       "      <td>0.04</td>\n",
       "      <td>0.05</td>\n",
       "      <td>0.05</td>\n",
       "      <td>0.53</td>\n",
       "      <td>0.02</td>\n",
       "      <td>0.02</td>\n",
       "      <td>0.02</td>\n",
       "      <td>0.19</td>\n",
       "      <td>0.01</td>\n",
       "      <td>0.01</td>\n",
       "      <td>0.01</td>\n",
       "      <td>0.08</td>\n",
       "    </tr>\n",
       "  </tbody>\n",
       "</table>\n",
       "</div>"
      ],
      "text/plain": [
       "           \\makecell{Individual stocks\\\\Transaction-price returns}          \\\n",
       "                                                             Daily           \n",
       "                                                               (1)     (2)   \n",
       "Intercept                                               -0.08        -0.08   \n",
       "                                                       (0.02)       (0.03)   \n",
       "VIX                                                      0.24         0.21   \n",
       "                                                       (0.02)       (0.02)   \n",
       "Pre-decim.                                                            0.26   \n",
       "                                                                    (0.03)   \n",
       "$R_M$                                                                        \n",
       "                                                                             \n",
       "Adj. $R^2$                                               0.04         0.05   \n",
       "\n",
       "                            \\\n",
       "                   Monthly   \n",
       "               (3)     (4)   \n",
       "Intercept    -0.05   -0.01   \n",
       "            (0.02)  (0.02)   \n",
       "VIX           0.19    0.15   \n",
       "            (0.02)  (0.02)   \n",
       "Pre-decim.    0.27    0.28   \n",
       "            (0.03)  (0.03)   \n",
       "$R_M$        -0.39    0.03   \n",
       "            (0.17)  (0.18)   \n",
       "Adj. $R^2$    0.05    0.53   \n",
       "\n",
       "           \\makecell{Individual stocks\\\\Quote-midpoint returns}          \\\n",
       "                                                          Daily           \n",
       "                                                            (5)     (6)   \n",
       "Intercept                                               -0.09     -0.09   \n",
       "                                                       (0.03)    (0.03)   \n",
       "VIX                                                      0.19      0.18   \n",
       "                                                       (0.02)    (0.03)   \n",
       "Pre-decim.                                                         0.09   \n",
       "                                                                 (0.03)   \n",
       "$R_M$                                                                     \n",
       "                                                                          \n",
       "Adj. $R^2$                                               0.02      0.02   \n",
       "\n",
       "                           \\makecell{Industry\\\\portfolios}                  \\\n",
       "                   Monthly                           Daily                   \n",
       "               (7)     (8)                             (9)    (10)    (11)   \n",
       "Intercept    -0.06   -0.02                           -0.09   -0.09   -0.07   \n",
       "            (0.03)  (0.03)                          (0.02)  (0.02)  (0.02)   \n",
       "VIX           0.17    0.12                            0.08    0.08    0.07   \n",
       "            (0.02)  (0.03)                          (0.02)  (0.02)  (0.02)   \n",
       "Pre-decim.    0.10    0.12                                    0.00    0.00   \n",
       "            (0.03)  (0.03)                                  (0.02)  (0.02)   \n",
       "$R_M$        -0.47   -0.04                                           -0.24   \n",
       "            (0.23)  (0.26)                                          (0.16)   \n",
       "Adj. $R^2$    0.02    0.19                            0.01    0.01    0.01   \n",
       "\n",
       "                    \n",
       "           Monthly  \n",
       "              (12)  \n",
       "Intercept    -0.06  \n",
       "            (0.02)  \n",
       "VIX           0.05  \n",
       "            (0.01)  \n",
       "Pre-decim.    0.01  \n",
       "            (0.02)  \n",
       "$R_M$        -0.03  \n",
       "            (0.13)  \n",
       "Adj. $R^2$    0.08  "
      ]
     },
     "execution_count": 34,
     "metadata": {},
     "output_type": "execute_result"
    }
   ],
   "source": [
    "table = regression_hac.generate_table(data_new, data_m_new)\n",
    "table"
   ]
  },
  {
   "cell_type": "markdown",
   "metadata": {},
   "source": [
    "Note: Newey-West HAC standard errors (with 20 lags for daily data and 3 lags for monthly data) are reported in parentheses."
   ]
  },
  {
   "cell_type": "markdown",
   "metadata": {},
   "source": [
    "---"
   ]
  },
  {
   "cell_type": "markdown",
   "metadata": {},
   "source": [
    "## Analysis outside of replication"
   ]
  },
  {
   "cell_type": "markdown",
   "metadata": {},
   "source": [
    "### 1. Performance of Reversal Strategies"
   ]
  },
  {
   "cell_type": "code",
   "execution_count": 35,
   "metadata": {},
   "outputs": [],
   "source": [
    "ret_raw = calc_reversal_strategy.load_reversal_return(data_dir=DATA_DIR)\n",
    "\n",
    "index = pd.read_parquet(DATA_DIR / \"pulled\" / \"CRSP_DSIX.parquet\")\n",
    "index = index.set_index('caldt')['vwretx']*100\n",
    "\n",
    "strategies = pd.concat([ret_raw, index], axis=1)\n",
    "strategies.columns = ['Transact. prices','Quote-midpoints','Industry portfolio', 'CRSP Value Weighted Index']"
   ]
  },
  {
   "cell_type": "code",
   "execution_count": 36,
   "metadata": {},
   "outputs": [
    {
     "data": {
      "text/html": [
       "<div>\n",
       "<style scoped>\n",
       "    .dataframe tbody tr th:only-of-type {\n",
       "        vertical-align: middle;\n",
       "    }\n",
       "\n",
       "    .dataframe tbody tr th {\n",
       "        vertical-align: top;\n",
       "    }\n",
       "\n",
       "    .dataframe thead th {\n",
       "        text-align: right;\n",
       "    }\n",
       "</style>\n",
       "<table border=\"1\" class=\"dataframe\">\n",
       "  <thead>\n",
       "    <tr style=\"text-align: right;\">\n",
       "      <th></th>\n",
       "      <th>Transact. prices</th>\n",
       "      <th>Quote-midpoints</th>\n",
       "      <th>Industry portfolio</th>\n",
       "      <th>CRSP Value Weighted Index</th>\n",
       "    </tr>\n",
       "  </thead>\n",
       "  <tbody>\n",
       "    <tr>\n",
       "      <th>Annualized Mean Return(%)</th>\n",
       "      <td>76.97</td>\n",
       "      <td>47.94</td>\n",
       "      <td>4.02</td>\n",
       "      <td>7.86</td>\n",
       "    </tr>\n",
       "    <tr>\n",
       "      <th>Annualzied Volatility(%)</th>\n",
       "      <td>8.94</td>\n",
       "      <td>10.57</td>\n",
       "      <td>8.85</td>\n",
       "      <td>19.65</td>\n",
       "    </tr>\n",
       "    <tr>\n",
       "      <th>Annualized Sharpe Ratio</th>\n",
       "      <td>8.61</td>\n",
       "      <td>4.53</td>\n",
       "      <td>0.45</td>\n",
       "      <td>0.40</td>\n",
       "    </tr>\n",
       "    <tr>\n",
       "      <th>Skewness</th>\n",
       "      <td>3.01</td>\n",
       "      <td>3.57</td>\n",
       "      <td>0.77</td>\n",
       "      <td>-0.27</td>\n",
       "    </tr>\n",
       "    <tr>\n",
       "      <th>Kurtosis</th>\n",
       "      <td>38.46</td>\n",
       "      <td>50.15</td>\n",
       "      <td>14.60</td>\n",
       "      <td>12.01</td>\n",
       "    </tr>\n",
       "    <tr>\n",
       "      <th>VaR (0.05)(%)</th>\n",
       "      <td>-0.33</td>\n",
       "      <td>-0.61</td>\n",
       "      <td>-0.74</td>\n",
       "      <td>-1.92</td>\n",
       "    </tr>\n",
       "    <tr>\n",
       "      <th>CVaR (0.05)(%)</th>\n",
       "      <td>-0.67</td>\n",
       "      <td>-1.02</td>\n",
       "      <td>-1.22</td>\n",
       "      <td>-2.96</td>\n",
       "    </tr>\n",
       "    <tr>\n",
       "      <th>Max Drawdown(%)</th>\n",
       "      <td>-4.38</td>\n",
       "      <td>-7.70</td>\n",
       "      <td>-13.90</td>\n",
       "      <td>-57.18</td>\n",
       "    </tr>\n",
       "    <tr>\n",
       "      <th>Peak</th>\n",
       "      <td>2000-04-11</td>\n",
       "      <td>2001-07-13</td>\n",
       "      <td>1998-04-09</td>\n",
       "      <td>2007-10-09</td>\n",
       "    </tr>\n",
       "    <tr>\n",
       "      <th>Bottom</th>\n",
       "      <td>2000-04-14</td>\n",
       "      <td>2001-09-21</td>\n",
       "      <td>1998-10-08</td>\n",
       "      <td>2009-03-09</td>\n",
       "    </tr>\n",
       "    <tr>\n",
       "      <th>Recovery Date</th>\n",
       "      <td>2000-04-18</td>\n",
       "      <td>2001-10-24</td>\n",
       "      <td>1999-06-16</td>\n",
       "      <td>2013-03-08</td>\n",
       "    </tr>\n",
       "    <tr>\n",
       "      <th>Duration (days)</th>\n",
       "      <td>7</td>\n",
       "      <td>103</td>\n",
       "      <td>433</td>\n",
       "      <td>1977</td>\n",
       "    </tr>\n",
       "  </tbody>\n",
       "</table>\n",
       "</div>"
      ],
      "text/plain": [
       "                          Transact. prices Quote-midpoints Industry portfolio  \\\n",
       "Annualized Mean Return(%)            76.97           47.94               4.02   \n",
       "Annualzied Volatility(%)              8.94           10.57               8.85   \n",
       "Annualized Sharpe Ratio               8.61            4.53               0.45   \n",
       "Skewness                              3.01            3.57               0.77   \n",
       "Kurtosis                             38.46           50.15              14.60   \n",
       "VaR (0.05)(%)                        -0.33           -0.61              -0.74   \n",
       "CVaR (0.05)(%)                       -0.67           -1.02              -1.22   \n",
       "Max Drawdown(%)                      -4.38           -7.70             -13.90   \n",
       "Peak                            2000-04-11      2001-07-13         1998-04-09   \n",
       "Bottom                          2000-04-14      2001-09-21         1998-10-08   \n",
       "Recovery Date                   2000-04-18      2001-10-24         1999-06-16   \n",
       "Duration (days)                          7             103                433   \n",
       "\n",
       "                          CRSP Value Weighted Index  \n",
       "Annualized Mean Return(%)                      7.86  \n",
       "Annualzied Volatility(%)                      19.65  \n",
       "Annualized Sharpe Ratio                        0.40  \n",
       "Skewness                                      -0.27  \n",
       "Kurtosis                                      12.01  \n",
       "VaR (0.05)(%)                                 -1.92  \n",
       "CVaR (0.05)(%)                                -2.96  \n",
       "Max Drawdown(%)                              -57.18  \n",
       "Peak                                     2007-10-09  \n",
       "Bottom                                   2009-03-09  \n",
       "Recovery Date                            2013-03-08  \n",
       "Duration (days)                                1977  "
      ]
     },
     "execution_count": 36,
     "metadata": {},
     "output_type": "execute_result"
    }
   ],
   "source": [
    "performance_matrix = additional_analysis.performance_summary(strategies, 252)\n",
    "performance_matrix"
   ]
  },
  {
   "cell_type": "markdown",
   "metadata": {},
   "source": [
    "Apart from the original statistical analysis of reversal strategy provided by the paper, we create a new version of performance matrix which includes VaR(0.05), CVaR(0.05), max drawdown, and other drawdown-based strategy perfomance, and we also add CRSP value weighted index as the benchmark to evaluate the performance of reversal strategies. \n",
    "\n",
    "Compared to the CRSP value weighted index, the reversal strategy based on individual stocks tends to have much higher annualized mean return and lower annualized volatility, which cause a way higher annualized sharpe ratio. The mean return of industry reversal strategy is a little bit lower than the banchmark, but it has lower volatility with higher sharpe ratio.\n",
    "\n",
    "With regard to max drawdown, the transact price based individual reversal strategy is the best(-4.38%) among all the reversal strategies(quote-midpoints: -7.70%, industry: -13.90%) and the CRSP index(-57.18%). That strategy dropped form the peak on 2009-10-22 after the period of financial crisis. And it only used 7 days to recover the lose since the peak, while the industry reversal strategy took 433 days to recover and CRSP value weighted index didn't recover to the peak."
   ]
  },
  {
   "cell_type": "markdown",
   "metadata": {},
   "source": [
    "### 2. Reversal Strategy vs VIX"
   ]
  },
  {
   "cell_type": "code",
   "execution_count": 37,
   "metadata": {},
   "outputs": [],
   "source": [
    "vix = load_vix.load_vix(data_dir=DATA_DIR)\n",
    "reversal_strategy = ret_raw.join(vix, how='left')\n",
    "reversal_strategy['Transact. prices'] = reversal_strategy['Transact. prices'].rolling(window=62).mean()"
   ]
  },
  {
   "cell_type": "code",
   "execution_count": 38,
   "metadata": {},
   "outputs": [
    {
     "data": {
      "image/png": "[encoded data removed]",
      "text/plain": [
       "<Figure size 1000x600 with 2 Axes>"
      ]
     },
     "metadata": {},
     "output_type": "display_data"
    }
   ],
   "source": [
    "# Plot reversal strategy and VIX\n",
    "fig, ax1 = plt.subplots(figsize=(10, 6))\n",
    "\n",
    "ax1.plot(reversal_strategy.index, reversal_strategy['Transact. prices'], color='brown')\n",
    "ax1.set_ylabel('Average return per day')\n",
    "plt.legend(['Average return per day'])\n",
    "\n",
    "ax2 = ax1.twinx()\n",
    "ax2.plot(reversal_strategy.index, reversal_strategy['VIXCLS'])\n",
    "ax2.set_ylabel('VIX')\n",
    "plt.legend(['VIX'])\n",
    "\n",
    "ax1.set_xlabel('Date')\n",
    "plt.show()"
   ]
  },
  {
   "cell_type": "markdown",
   "metadata": {},
   "source": [
    "This figure shows the three-month moving average return of the reversal strategy and VIX index across 1998 to 2010. The blue curve(VIX index) has a pre-trend of the red curve(3-month MA return of reversal strategy), which presents a key finding of the paper that the VIX index has a power to predict the reversal strategy return.\n",
    "\n",
    "During the LTCM crisis in 1998 and  Nasdaq decline in 2000, the reversal strategy return increased with VIX increasing. From then until 2007, returns declined steadily to less than 0.2% per day, but during the financial crisis, they surged, surpassing levels seen during the LTCM crisis. The figure illustrates a strong correlation between the time variation in the reversal strategy's return and the VIX index. Since the financial crisis began in 2007, the returns of the reversal strategy and the VIX have closely tracked each other.\n"
   ]
  }
 ],
 "metadata": {
  "kernelspec": {
   "display_name": "ds_hw3",
   "language": "python",
   "name": "python3"
  },
  "language_info": {
   "codemirror_mode": {
    "name": "ipython",
    "version": 3
   },
   "file_extension": ".py",
   "mimetype": "text/x-python",
   "name": "python",
   "nbconvert_exporter": "python",
   "pygments_lexer": "ipython3",
   "version": "3.12.1"
  }
 },
 "nbformat": 4,
 "nbformat_minor": 2
}
