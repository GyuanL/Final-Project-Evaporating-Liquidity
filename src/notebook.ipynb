{
 "cells": [
  {
   "cell_type": "markdown",
   "metadata": {},
   "source": [
    "# Final Project - Evaporating Liquidity"
   ]
  },
  {
   "cell_type": "markdown",
   "metadata": {},
   "source": [
    "In this project, we replicate tables from the paper \"_Evaporating Liquidity_\" by Stefan Nagel using the Principals of Reproducible Analytical Pipelines (RAPs) learned in the class. \n",
    "\n",
    "Our replication is automated from end-to-end using Pydoit, formatted using the project template (blank_project) provided by professor Bejarano, which is based on the Cookiecutter Data Science template."
   ]
  },
  {
   "cell_type": "code",
   "execution_count": 1,
   "metadata": {},
   "outputs": [],
   "source": [
    "import pandas as pd\n",
    "\n",
    "import config\n",
    "\n",
    "import load_CRSP_stock\n",
    "import load_FF_industry\n",
    "import load_vix\n",
    "\n",
    "import clean_CRSP_stock\n",
    "import calc_reversal_strategy\n",
    "# import hedged_reversal_strategy\n",
    "\n",
    "DATA_DIR= config.DATA_DIR\n",
    "\n",
    "import warnings\n",
    "warnings.filterwarnings('ignore')\n"
   ]
  },
  {
   "cell_type": "markdown",
   "metadata": {},
   "source": [
    "## Data Collection"
   ]
  },
  {
   "cell_type": "markdown",
   "metadata": {},
   "source": [
    "### 1. Pull and load CRSP data from WRDS"
   ]
  },
  {
   "cell_type": "markdown",
   "metadata": {},
   "source": [
    "Using `load_CRSP_stock`, we pull and save CRSP daily stock data and indexes from WRDS (Wharton Research Data Services). \n",
    "\n",
    "The CRSP daily stock data is needed to construct individual portfolios based on Reversal strategy. The CRSP daily index data is needed to evaluate the performance of Reversal strategy portfolios.\n",
    "\n",
    "Specifically:\n",
    "- we use query to pull data of stocks with share code 10 or 11, from NYSE, AMEX, and Nasdaq\n",
    "- pull one extra month of daily stock data for later data cleaning and processing"
   ]
  },
  {
   "cell_type": "markdown",
   "metadata": {},
   "source": [
    "#### CRSP daily stock data"
   ]
  },
  {
   "cell_type": "code",
   "execution_count": 2,
   "metadata": {},
   "outputs": [
    {
     "name": "stdout",
     "output_type": "stream",
     "text": [
      "<class 'pandas.core.frame.DataFrame'>\n",
      "Index: 17445472 entries, 0 to 445471\n",
      "Data columns (total 12 columns):\n",
      " #   Column   Dtype         \n",
      "---  ------   -----         \n",
      " 0   date     datetime64[ns]\n",
      " 1   permno   int64         \n",
      " 2   permco   int64         \n",
      " 3   exchcd   int64         \n",
      " 4   prc      float64       \n",
      " 5   bid      float64       \n",
      " 6   ask      float64       \n",
      " 7   shrout   float64       \n",
      " 8   cfacpr   float64       \n",
      " 9   cfacshr  float64       \n",
      " 10  ret      float64       \n",
      " 11  retx     float64       \n",
      "dtypes: datetime64[ns](1), float64(8), int64(3)\n",
      "memory usage: 1.7 GB\n"
     ]
    }
   ],
   "source": [
    "df_dsf = load_CRSP_stock.load_CRSP_daily_file(data_dir=DATA_DIR)\n",
    "df_dsf.info()"
   ]
  },
  {
   "cell_type": "markdown",
   "metadata": {},
   "source": [
    "### CRSP daily indexes"
   ]
  },
  {
   "cell_type": "code",
   "execution_count": 3,
   "metadata": {},
   "outputs": [
    {
     "data": {
      "text/plain": [
       "Index(['caldt', 'vwretd', 'vwindd', 'vwretx', 'vwindx', 'ewretd', 'ewindd',\n",
       "       'ewretx', 'ewindx', 'sprtrn', 'spindx', 'decret1', 'decind1', 'decret2',\n",
       "       'decind2', 'decret3', 'decind3', 'decret4', 'decind4', 'decret5',\n",
       "       'decind5', 'decret6', 'decind6', 'decret7', 'decind7', 'decret8',\n",
       "       'decind8', 'decret9', 'decind9', 'decret10', 'decind10', 'totval',\n",
       "       'totcnt', 'usdval', 'usdcnt'],\n",
       "      dtype='object')"
      ]
     },
     "execution_count": 3,
     "metadata": {},
     "output_type": "execute_result"
    }
   ],
   "source": [
    "df_msix = load_CRSP_stock.load_CRSP_index_files(data_dir=DATA_DIR)\n",
    "df_msix.columns"
   ]
  },
  {
   "cell_type": "markdown",
   "metadata": {},
   "source": [
    "### 2. Pull and load data from the Fama-French Data Library\n"
   ]
  },
  {
   "cell_type": "markdown",
   "metadata": {},
   "source": [
    "\n",
    "Using `load_FF_industry`, we pull and save 48 industry portfolio daily returns from the Fama/French Data Library. \n",
    "\n",
    "The industry portfolios are constructed by classifying stocks into 48 industries as in Fama and French (1997). The industry portfolio daily returns are needed to construct the industry portfolios based on Reversal strategy."
   ]
  },
  {
   "cell_type": "code",
   "execution_count": 4,
   "metadata": {},
   "outputs": [],
   "source": [
    "ff = load_FF_industry.load_FF_industry_portfolio_daily(data_dir=DATA_DIR)"
   ]
  },
  {
   "cell_type": "markdown",
   "metadata": {},
   "source": [
    "#### Average Value Weighted Daily Returns"
   ]
  },
  {
   "cell_type": "code",
   "execution_count": 5,
   "metadata": {},
   "outputs": [
    {
     "data": {
      "text/html": [
       "<div>\n",
       "<style scoped>\n",
       "    .dataframe tbody tr th:only-of-type {\n",
       "        vertical-align: middle;\n",
       "    }\n",
       "\n",
       "    .dataframe tbody tr th {\n",
       "        vertical-align: top;\n",
       "    }\n",
       "\n",
       "    .dataframe thead th {\n",
       "        text-align: right;\n",
       "    }\n",
       "</style>\n",
       "<table border=\"1\" class=\"dataframe\">\n",
       "  <thead>\n",
       "    <tr style=\"text-align: right;\">\n",
       "      <th></th>\n",
       "      <th>Agric</th>\n",
       "      <th>Food</th>\n",
       "      <th>Soda</th>\n",
       "      <th>Beer</th>\n",
       "      <th>Smoke</th>\n",
       "      <th>Toys</th>\n",
       "      <th>Fun</th>\n",
       "      <th>Books</th>\n",
       "      <th>Hshld</th>\n",
       "      <th>Clths</th>\n",
       "      <th>...</th>\n",
       "      <th>Boxes</th>\n",
       "      <th>Trans</th>\n",
       "      <th>Whlsl</th>\n",
       "      <th>Rtail</th>\n",
       "      <th>Meals</th>\n",
       "      <th>Banks</th>\n",
       "      <th>Insur</th>\n",
       "      <th>RlEst</th>\n",
       "      <th>Fin</th>\n",
       "      <th>Other</th>\n",
       "    </tr>\n",
       "    <tr>\n",
       "      <th>Date</th>\n",
       "      <th></th>\n",
       "      <th></th>\n",
       "      <th></th>\n",
       "      <th></th>\n",
       "      <th></th>\n",
       "      <th></th>\n",
       "      <th></th>\n",
       "      <th></th>\n",
       "      <th></th>\n",
       "      <th></th>\n",
       "      <th></th>\n",
       "      <th></th>\n",
       "      <th></th>\n",
       "      <th></th>\n",
       "      <th></th>\n",
       "      <th></th>\n",
       "      <th></th>\n",
       "      <th></th>\n",
       "      <th></th>\n",
       "      <th></th>\n",
       "      <th></th>\n",
       "    </tr>\n",
       "  </thead>\n",
       "  <tbody>\n",
       "    <tr>\n",
       "      <th>2010-12-27</th>\n",
       "      <td>0.12</td>\n",
       "      <td>-0.35</td>\n",
       "      <td>-0.22</td>\n",
       "      <td>-0.61</td>\n",
       "      <td>-0.26</td>\n",
       "      <td>0.06</td>\n",
       "      <td>-0.48</td>\n",
       "      <td>0.29</td>\n",
       "      <td>-0.55</td>\n",
       "      <td>-0.08</td>\n",
       "      <td>...</td>\n",
       "      <td>0.24</td>\n",
       "      <td>0.21</td>\n",
       "      <td>0.12</td>\n",
       "      <td>-0.13</td>\n",
       "      <td>-0.61</td>\n",
       "      <td>1.17</td>\n",
       "      <td>0.24</td>\n",
       "      <td>-0.18</td>\n",
       "      <td>0.83</td>\n",
       "      <td>0.52</td>\n",
       "    </tr>\n",
       "    <tr>\n",
       "      <th>2010-12-28</th>\n",
       "      <td>0.37</td>\n",
       "      <td>0.03</td>\n",
       "      <td>-0.39</td>\n",
       "      <td>0.12</td>\n",
       "      <td>-0.05</td>\n",
       "      <td>-1.45</td>\n",
       "      <td>-0.63</td>\n",
       "      <td>-0.50</td>\n",
       "      <td>0.14</td>\n",
       "      <td>-0.37</td>\n",
       "      <td>...</td>\n",
       "      <td>-0.02</td>\n",
       "      <td>-0.08</td>\n",
       "      <td>-0.16</td>\n",
       "      <td>-0.06</td>\n",
       "      <td>-0.23</td>\n",
       "      <td>0.15</td>\n",
       "      <td>-0.21</td>\n",
       "      <td>-0.39</td>\n",
       "      <td>-0.10</td>\n",
       "      <td>0.17</td>\n",
       "    </tr>\n",
       "    <tr>\n",
       "      <th>2010-12-29</th>\n",
       "      <td>2.22</td>\n",
       "      <td>-0.03</td>\n",
       "      <td>-0.32</td>\n",
       "      <td>0.09</td>\n",
       "      <td>0.23</td>\n",
       "      <td>0.55</td>\n",
       "      <td>0.22</td>\n",
       "      <td>0.70</td>\n",
       "      <td>-0.38</td>\n",
       "      <td>-0.53</td>\n",
       "      <td>...</td>\n",
       "      <td>0.02</td>\n",
       "      <td>0.21</td>\n",
       "      <td>0.23</td>\n",
       "      <td>0.51</td>\n",
       "      <td>0.49</td>\n",
       "      <td>-0.25</td>\n",
       "      <td>-0.09</td>\n",
       "      <td>0.70</td>\n",
       "      <td>-0.50</td>\n",
       "      <td>-0.10</td>\n",
       "    </tr>\n",
       "    <tr>\n",
       "      <th>2010-12-30</th>\n",
       "      <td>1.00</td>\n",
       "      <td>0.07</td>\n",
       "      <td>0.00</td>\n",
       "      <td>-0.11</td>\n",
       "      <td>-0.42</td>\n",
       "      <td>-0.02</td>\n",
       "      <td>-0.60</td>\n",
       "      <td>-0.78</td>\n",
       "      <td>-0.15</td>\n",
       "      <td>0.54</td>\n",
       "      <td>...</td>\n",
       "      <td>-0.04</td>\n",
       "      <td>-0.02</td>\n",
       "      <td>-0.03</td>\n",
       "      <td>0.13</td>\n",
       "      <td>-0.39</td>\n",
       "      <td>-0.35</td>\n",
       "      <td>-0.29</td>\n",
       "      <td>-0.47</td>\n",
       "      <td>-0.25</td>\n",
       "      <td>-0.44</td>\n",
       "    </tr>\n",
       "    <tr>\n",
       "      <th>2010-12-31</th>\n",
       "      <td>-0.13</td>\n",
       "      <td>0.01</td>\n",
       "      <td>-0.81</td>\n",
       "      <td>0.34</td>\n",
       "      <td>0.05</td>\n",
       "      <td>-1.12</td>\n",
       "      <td>1.14</td>\n",
       "      <td>-0.18</td>\n",
       "      <td>-0.06</td>\n",
       "      <td>-0.93</td>\n",
       "      <td>...</td>\n",
       "      <td>-1.02</td>\n",
       "      <td>0.00</td>\n",
       "      <td>-0.54</td>\n",
       "      <td>-0.48</td>\n",
       "      <td>-0.40</td>\n",
       "      <td>0.09</td>\n",
       "      <td>0.19</td>\n",
       "      <td>-0.09</td>\n",
       "      <td>0.07</td>\n",
       "      <td>0.60</td>\n",
       "    </tr>\n",
       "  </tbody>\n",
       "</table>\n",
       "<p>5 rows × 48 columns</p>\n",
       "</div>"
      ],
      "text/plain": [
       "            Agric  Food   Soda   Beer   Smoke  Toys   Fun    Books  Hshld  \\\n",
       "Date                                                                        \n",
       "2010-12-27   0.12  -0.35  -0.22  -0.61  -0.26   0.06  -0.48   0.29  -0.55   \n",
       "2010-12-28   0.37   0.03  -0.39   0.12  -0.05  -1.45  -0.63  -0.50   0.14   \n",
       "2010-12-29   2.22  -0.03  -0.32   0.09   0.23   0.55   0.22   0.70  -0.38   \n",
       "2010-12-30   1.00   0.07   0.00  -0.11  -0.42  -0.02  -0.60  -0.78  -0.15   \n",
       "2010-12-31  -0.13   0.01  -0.81   0.34   0.05  -1.12   1.14  -0.18  -0.06   \n",
       "\n",
       "            Clths  ...  Boxes  Trans  Whlsl  Rtail  Meals  Banks  Insur  \\\n",
       "Date               ...                                                    \n",
       "2010-12-27  -0.08  ...   0.24   0.21   0.12  -0.13  -0.61   1.17   0.24   \n",
       "2010-12-28  -0.37  ...  -0.02  -0.08  -0.16  -0.06  -0.23   0.15  -0.21   \n",
       "2010-12-29  -0.53  ...   0.02   0.21   0.23   0.51   0.49  -0.25  -0.09   \n",
       "2010-12-30   0.54  ...  -0.04  -0.02  -0.03   0.13  -0.39  -0.35  -0.29   \n",
       "2010-12-31  -0.93  ...  -1.02   0.00  -0.54  -0.48  -0.40   0.09   0.19   \n",
       "\n",
       "            RlEst  Fin    Other  \n",
       "Date                             \n",
       "2010-12-27  -0.18   0.83   0.52  \n",
       "2010-12-28  -0.39  -0.10   0.17  \n",
       "2010-12-29   0.70  -0.50  -0.10  \n",
       "2010-12-30  -0.47  -0.25  -0.44  \n",
       "2010-12-31  -0.09   0.07   0.60  \n",
       "\n",
       "[5 rows x 48 columns]"
      ]
     },
     "execution_count": 5,
     "metadata": {},
     "output_type": "execute_result"
    }
   ],
   "source": [
    "ff[0].tail()"
   ]
  },
  {
   "cell_type": "markdown",
   "metadata": {},
   "source": [
    "### 3. Pull and load VIX from the Fama-French Data Library\n"
   ]
  },
  {
   "cell_type": "markdown",
   "metadata": {},
   "source": [
    "\n",
    "Using `load_vix`, we pull and save CBOE Volatility Index data from FRED. The data is used later in table replicatation."
   ]
  },
  {
   "cell_type": "code",
   "execution_count": 6,
   "metadata": {},
   "outputs": [],
   "source": [
    "vix = load_vix.load_vix(data_dir=DATA_DIR)"
   ]
  },
  {
   "cell_type": "markdown",
   "metadata": {},
   "source": [
    "## Data Cleaning and Processing"
   ]
  },
  {
   "cell_type": "markdown",
   "metadata": {},
   "source": [
    "### Select the desired subsample of the data"
   ]
  },
  {
   "cell_type": "markdown",
   "metadata": {},
   "source": [
    "#### For reversal strategy based on transaction prices calculated from daily closing prices"
   ]
  },
  {
   "cell_type": "markdown",
   "metadata": {},
   "source": [
    "1. Adjust prc with a negative sign to be positive"
   ]
  },
  {
   "cell_type": "markdown",
   "metadata": {},
   "source": [
    "> Prc is the closing price or the negative bid/ask average for a trading day. If the closing price is not available on any given trading day, the number in the price field has a negative sign to indicate that it is a bid/ask average and not an actual closing price. Please note that in this field the negative sign is a symbol and that the value of the bid/ask average is not negative. If neither closing price nor bid/ask average is available on a date, prc is set to zero. "
   ]
  },
  {
   "cell_type": "markdown",
   "metadata": {},
   "source": [
    "2. Filter stocks with closing price (prc) of at least $1 on the last trading day of the previous calendar month"
   ]
  },
  {
   "cell_type": "markdown",
   "metadata": {},
   "source": [
    "> To enter into the sample, a stock needs to have share code 10 or 11. In addition, it must have a closing price of at least $1 on the last trading day of the previous calendar month.\n"
   ]
  },
  {
   "cell_type": "markdown",
   "metadata": {},
   "source": [
    "3. Select the CRSP stock data for a specific time period"
   ]
  },
  {
   "cell_type": "code",
   "execution_count": 7,
   "metadata": {},
   "outputs": [],
   "source": [
    "def select_stocks_by_closing_prices(df):\n",
    "    \"\"\"\n",
    "    Clean the CRSP stock data for strategy based on closing prices\n",
    "    \"\"\"\n",
    "\n",
    "    # make sure 'prc' is positive (negative sign means using bid/ask average instead of closing price)\n",
    "    df = clean_CRSP_stock.clean_prc_to_positive(df)\n",
    "\n",
    "    # stocks must have a closing price of at least $1 on the last trading day of the previous calendar month\n",
    "    df = clean_CRSP_stock.clean_1dollar_prc(df)\n",
    "\n",
    "    # select time range of the data\n",
    "    df = clean_CRSP_stock.clean_date(df, start_year=1998, end_year=2024)\n",
    "\n",
    "    return df.reset_index()"
   ]
  },
  {
   "cell_type": "markdown",
   "metadata": {},
   "source": [
    "#### For reversal strategy based on quote-midpoints calculated from averages of closing bid and ask quotes"
   ]
  },
  {
   "cell_type": "markdown",
   "metadata": {},
   "source": [
    "1. Adjust prc with a negative sign to be positive\n",
    "\n",
    "2. Filter stocks with closing price (prc) of at least $1 on the last trading day of the previous calendar month\n",
    "\n",
    "3. Select stocks traded on NASDAQ\n",
    "\n",
    "4. Adjust bid and ask quotes for stock splits using CRSP adjustment factor"
   ]
  },
  {
   "cell_type": "markdown",
   "metadata": {},
   "source": [
    "> Reversal strategy returns based on transaction prices are calculated from daily closing prices, and the reversal strategy returns based on quote-midpoints are calculated from averages of closing bid and ask quotes, as reported in the CRSP daily returns file (for Nasdaq stocks only), adjusted for stock splits and dividends using the CRSP adjustment factors and dividend information.\n"
   ]
  },
  {
   "cell_type": "markdown",
   "metadata": {},
   "source": [
    "5. Filter stocks with ratio of bid to quote-midpoint not smaller than 0.5.\n",
    "\n",
    "6. Filter stocks with one-day return based on quote-midpoints minus the return based on closing prices not less than -50% and not higher than 100%. If a closing transaction price is not available, the quote-midpoint is used to calculate transaction-price returns.\n",
    "\n",
    "7. Select the CRSP stock data for a specific time period"
   ]
  },
  {
   "cell_type": "markdown",
   "metadata": {},
   "source": [
    "\n",
    "> In a few instances, the closing bid and ask data for Nasdaq stocks on CRSP have some data recording errors, such as increases of bid or ask by a factor of 100 or digits that are cut off. \n",
    "\n",
    "> To screen out data recording errors of bid and ask data for Nasdaq stocks: require that the ratio of bid to quote-midpoint is not smaller than 0.5, and the one-day return based on quote-midpoints minus the return based on closing prices is not less than -50% and not higher than 100%. If a closing transaction price is not available, the quote-midpoint is used to calculate transaction-price returns.\n"
   ]
  },
  {
   "cell_type": "code",
   "execution_count": 8,
   "metadata": {},
   "outputs": [],
   "source": [
    "def select_stocks_by_quote_midpoints(df):\n",
    "    \"\"\"\n",
    "    Clean the CRSP stock data for strategy based on quote-midpoints\n",
    "    \"\"\"\n",
    "\n",
    "    # make sure 'prc' is positive (negative sign means using bid/ask average instead of closing price)\n",
    "    df = clean_CRSP_stock.clean_prc_to_positive(df)\n",
    "\n",
    "    # Nasdaq stocks only\n",
    "    df = df[df['exchcd'] == 3]\n",
    "\n",
    "    # adjusting the price using adjustment factors\n",
    "    df['bid'] = df['bid'] / df['cfacpr']\n",
    "    df['ask'] = df['ask'] / df['cfacpr']\n",
    "    df['quote_midpoint'] = (df['bid'] + df['ask']) / 2\n",
    "\n",
    "    # ratio of bid to quote-midpoint is not smaller than 0.5\n",
    "    df = clean_CRSP_stock.clean_bid_quote_midpoint(df)\n",
    "\n",
    "    # one-day return based on quote-midpoints minus the return based on closing prices is less than -50% and higher than 100%\n",
    "    df = clean_CRSP_stock.clean_one_day_return(df)\n",
    "\n",
    "    # stocks must have a closing price of at least $1 on the last trading day of the previous calendar month\n",
    "    df = clean_CRSP_stock.clean_1dollar_prc(df)\n",
    "\n",
    "    # select time range of the data\n",
    "    df = clean_CRSP_stock.clean_date(df, start_year=1998, end_year=2024)\n",
    "\n",
    "    return df.reset_index()"
   ]
  },
  {
   "cell_type": "markdown",
   "metadata": {},
   "source": [
    "### Load cleaned data"
   ]
  },
  {
   "cell_type": "code",
   "execution_count": 9,
   "metadata": {},
   "outputs": [
    {
     "name": "stdout",
     "output_type": "stream",
     "text": [
      "<class 'pandas.core.frame.DataFrame'>\n",
      "RangeIndex: 16530172 entries, 0 to 16530171\n",
      "Data columns (total 13 columns):\n",
      " #   Column   Dtype         \n",
      "---  ------   -----         \n",
      " 0   index    int64         \n",
      " 1   date     datetime64[ns]\n",
      " 2   permno   int64         \n",
      " 3   permco   int64         \n",
      " 4   exchcd   int64         \n",
      " 5   prc      float64       \n",
      " 6   bid      float64       \n",
      " 7   ask      float64       \n",
      " 8   shrout   float64       \n",
      " 9   cfacpr   float64       \n",
      " 10  cfacshr  float64       \n",
      " 11  ret      float64       \n",
      " 12  retx     float64       \n",
      "dtypes: datetime64[ns](1), float64(8), int64(4)\n",
      "memory usage: 1.6 GB\n"
     ]
    }
   ],
   "source": [
    "dfcp = clean_CRSP_stock.load_CRSP_closing_price(data_dir=DATA_DIR)\n",
    "dfcp.info()"
   ]
  },
  {
   "cell_type": "code",
   "execution_count": 10,
   "metadata": {},
   "outputs": [
    {
     "name": "stdout",
     "output_type": "stream",
     "text": [
      "<class 'pandas.core.frame.DataFrame'>\n",
      "RangeIndex: 10250715 entries, 0 to 10250714\n",
      "Data columns (total 16 columns):\n",
      " #   Column                    Dtype         \n",
      "---  ------                    -----         \n",
      " 0   index                     int64         \n",
      " 1   date                      datetime64[ns]\n",
      " 2   permno                    int64         \n",
      " 3   permco                    int64         \n",
      " 4   exchcd                    int64         \n",
      " 5   prc                       float64       \n",
      " 6   bid                       float64       \n",
      " 7   ask                       float64       \n",
      " 8   shrout                    float64       \n",
      " 9   cfacpr                    float64       \n",
      " 10  cfacshr                   float64       \n",
      " 11  ret                       float64       \n",
      " 12  retx                      float64       \n",
      " 13  quote_midpoint            float64       \n",
      " 14  transaction_price_return  float64       \n",
      " 15  quote_midpoint_return     float64       \n",
      "dtypes: datetime64[ns](1), float64(11), int64(4)\n",
      "memory usage: 1.2 GB\n"
     ]
    }
   ],
   "source": [
    "dfmid = clean_CRSP_stock.load_CRSP_midpoint(data_dir=DATA_DIR)\n",
    "dfmid.info()"
   ]
  },
  {
   "cell_type": "markdown",
   "metadata": {},
   "source": [
    "## Reversal Strategy "
   ]
  },
  {
   "cell_type": "markdown",
   "metadata": {},
   "source": [
    "### Construct Reversal Strategy "
   ]
  },
  {
   "cell_type": "markdown",
   "metadata": {},
   "source": [
    "Each day t, the reversal strategy returns are calculated as the average of returns from five reversal strategies that weight stocks proportional to the negative of market-adjusted returns on days t − 1, t − 2, ..., t − 5, with weights scaled to add up to $1 short and $1 long."
   ]
  },
  {
   "cell_type": "code",
   "execution_count": 11,
   "metadata": {},
   "outputs": [],
   "source": [
    "def calc_reverse_strategy_ret(df, type_col='industry', ret_col='ret'):\n",
    "    df = df.copy()\n",
    "    df['ret-avg'] = df.groupby('date')[ret_col].transform(lambda x: x - x.mean())\n",
    "    df['w'] = df.groupby('date')['ret-avg'].transform(lambda x: - x / (0.5 * x.abs().sum()))\n",
    "\n",
    "    for i in range(1, 6):\n",
    "        df[f'w_lag_{i}'] = df.groupby(type_col)['w'].shift(i)\n",
    "\n",
    "    df['rev_ret'] = (df['w_lag_1'] + df['w_lag_2'] + df['w_lag_3'] + df['w_lag_4'] + df['w_lag_5']) * df[ret_col] / 5\n",
    "\n",
    "    return df.groupby('date')['rev_ret'].sum()"
   ]
  },
  {
   "cell_type": "markdown",
   "metadata": {},
   "source": [
    "To be specific, the returns of the reversal strategies are calculated as an overlay of the returns of five sub-strategies: One with portfolio weights conditioned on day t − 1 returns, one conditioned on day t − 2 data, ..., one conditioned on t − 5 data. Then we calculated the simple average of these five sub-strategies’ returns as the overall reversal strategy return."
   ]
  },
  {
   "cell_type": "markdown",
   "metadata": {},
   "source": [
    "### Hedge against market factor risk"
   ]
  },
  {
   "cell_type": "code",
   "execution_count": null,
   "metadata": {},
   "outputs": [],
   "source": []
  },
  {
   "cell_type": "markdown",
   "metadata": {},
   "source": [
    "## Table Replication"
   ]
  },
  {
   "cell_type": "markdown",
   "metadata": {},
   "source": [
    "We replicate tables with data with time period from January 1998 to December 2010."
   ]
  },
  {
   "cell_type": "markdown",
   "metadata": {},
   "source": [
    "### Table 1: Summary Statistics of Reversal Strategy Returns"
   ]
  },
  {
   "cell_type": "markdown",
   "metadata": {},
   "source": [
    "Panel A presents statistics for the raw returns of these strategies, while Panel B shows similar statistics for hedged returns, which are obtained by eliminating conditional market factor exposure."
   ]
  },
  {
   "cell_type": "markdown",
   "metadata": {},
   "source": [
    "#### A. Raw returns"
   ]
  },
  {
   "cell_type": "markdown",
   "metadata": {},
   "source": [
    "Reversal strategy returns are calculated both with transaction-price returns, quote-midpoint returns, and industry returns. In each case, the portfolio weights are calculated with the same type of return (on days t − 1 to t − 5) as the type used to calculate portfolio returns (on day t).\n",
    "\n",
    "- Transaction-price returns are calculated from daily CRSP closing transaction prices (for NYSE, AMEX, and Nasdaq stocks). \n",
    "- Quote-midpoint returns are calculated from bid-ask midpoints of daily CRSP closing quotes (with Nasdaq stocks only). \n",
    "- The industry returns pulled from Fama and French are calculated with transaction prices. "
   ]
  },
  {
   "cell_type": "code",
   "execution_count": 12,
   "metadata": {},
   "outputs": [
    {
     "data": {
      "text/html": [
       "<div>\n",
       "<style scoped>\n",
       "    .dataframe tbody tr th:only-of-type {\n",
       "        vertical-align: middle;\n",
       "    }\n",
       "\n",
       "    .dataframe tbody tr th {\n",
       "        vertical-align: top;\n",
       "    }\n",
       "\n",
       "    .dataframe thead th {\n",
       "        text-align: right;\n",
       "    }\n",
       "</style>\n",
       "<table border=\"1\" class=\"dataframe\">\n",
       "  <thead>\n",
       "    <tr style=\"text-align: right;\">\n",
       "      <th></th>\n",
       "      <th>Transact. prices</th>\n",
       "      <th>Quote-midpoints</th>\n",
       "      <th>Industry portfolio</th>\n",
       "    </tr>\n",
       "    <tr>\n",
       "      <th>date</th>\n",
       "      <th></th>\n",
       "      <th></th>\n",
       "      <th></th>\n",
       "    </tr>\n",
       "  </thead>\n",
       "  <tbody>\n",
       "    <tr>\n",
       "      <th>1998-01-02</th>\n",
       "      <td>1.329402</td>\n",
       "      <td>0.038368</td>\n",
       "      <td>0.134118</td>\n",
       "    </tr>\n",
       "    <tr>\n",
       "      <th>1998-01-05</th>\n",
       "      <td>0.689190</td>\n",
       "      <td>0.375095</td>\n",
       "      <td>-0.483562</td>\n",
       "    </tr>\n",
       "    <tr>\n",
       "      <th>1998-01-06</th>\n",
       "      <td>0.354757</td>\n",
       "      <td>0.066624</td>\n",
       "      <td>0.114318</td>\n",
       "    </tr>\n",
       "    <tr>\n",
       "      <th>1998-01-07</th>\n",
       "      <td>0.391311</td>\n",
       "      <td>0.147555</td>\n",
       "      <td>0.252857</td>\n",
       "    </tr>\n",
       "    <tr>\n",
       "      <th>1998-01-08</th>\n",
       "      <td>0.256501</td>\n",
       "      <td>-0.008249</td>\n",
       "      <td>-0.284123</td>\n",
       "    </tr>\n",
       "    <tr>\n",
       "      <th>...</th>\n",
       "      <td>...</td>\n",
       "      <td>...</td>\n",
       "      <td>...</td>\n",
       "    </tr>\n",
       "    <tr>\n",
       "      <th>2010-12-27</th>\n",
       "      <td>-0.265861</td>\n",
       "      <td>-0.368400</td>\n",
       "      <td>0.021103</td>\n",
       "    </tr>\n",
       "    <tr>\n",
       "      <th>2010-12-28</th>\n",
       "      <td>0.050559</td>\n",
       "      <td>-0.104661</td>\n",
       "      <td>-0.151843</td>\n",
       "    </tr>\n",
       "    <tr>\n",
       "      <th>2010-12-29</th>\n",
       "      <td>0.095505</td>\n",
       "      <td>0.580082</td>\n",
       "      <td>-0.166645</td>\n",
       "    </tr>\n",
       "    <tr>\n",
       "      <th>2010-12-30</th>\n",
       "      <td>0.184531</td>\n",
       "      <td>0.315257</td>\n",
       "      <td>-0.158098</td>\n",
       "    </tr>\n",
       "    <tr>\n",
       "      <th>2010-12-31</th>\n",
       "      <td>0.026000</td>\n",
       "      <td>0.192004</td>\n",
       "      <td>-0.066325</td>\n",
       "    </tr>\n",
       "  </tbody>\n",
       "</table>\n",
       "<p>3271 rows × 3 columns</p>\n",
       "</div>"
      ],
      "text/plain": [
       "            Transact. prices  Quote-midpoints  Industry portfolio\n",
       "date                                                             \n",
       "1998-01-02          1.329402         0.038368            0.134118\n",
       "1998-01-05          0.689190         0.375095           -0.483562\n",
       "1998-01-06          0.354757         0.066624            0.114318\n",
       "1998-01-07          0.391311         0.147555            0.252857\n",
       "1998-01-08          0.256501        -0.008249           -0.284123\n",
       "...                      ...              ...                 ...\n",
       "2010-12-27         -0.265861        -0.368400            0.021103\n",
       "2010-12-28          0.050559        -0.104661           -0.151843\n",
       "2010-12-29          0.095505         0.580082           -0.166645\n",
       "2010-12-30          0.184531         0.315257           -0.158098\n",
       "2010-12-31          0.026000         0.192004           -0.066325\n",
       "\n",
       "[3271 rows x 3 columns]"
      ]
     },
     "execution_count": 12,
     "metadata": {},
     "output_type": "execute_result"
    }
   ],
   "source": [
    "ret_raw = calc_reversal_strategy.load_reversal_return(data_dir=DATA_DIR)\n",
    "ret_raw"
   ]
  },
  {
   "cell_type": "code",
   "execution_count": 13,
   "metadata": {},
   "outputs": [
    {
     "data": {
      "text/html": [
       "<style type=\"text/css\">\n",
       "</style>\n",
       "<table id=\"T_ed85a\">\n",
       "  <thead>\n",
       "    <tr>\n",
       "      <th class=\"blank level0\" >&nbsp;</th>\n",
       "      <th id=\"T_ed85a_level0_col0\" class=\"col_heading level0 col0\" >Transact. prices</th>\n",
       "      <th id=\"T_ed85a_level0_col1\" class=\"col_heading level0 col1\" >Quote-midpoints</th>\n",
       "      <th id=\"T_ed85a_level0_col2\" class=\"col_heading level0 col2\" >Industry portfolio</th>\n",
       "    </tr>\n",
       "  </thead>\n",
       "  <tbody>\n",
       "    <tr>\n",
       "      <th id=\"T_ed85a_level0_row0\" class=\"row_heading level0 row0\" >Mean return(% per day)</th>\n",
       "      <td id=\"T_ed85a_row0_col0\" class=\"data row0 col0\" >0.31</td>\n",
       "      <td id=\"T_ed85a_row0_col1\" class=\"data row0 col1\" >0.19</td>\n",
       "      <td id=\"T_ed85a_row0_col2\" class=\"data row0 col2\" >0.02</td>\n",
       "    </tr>\n",
       "    <tr>\n",
       "      <th id=\"T_ed85a_level0_row1\" class=\"row_heading level0 row1\" >Std.dev.(% per day)</th>\n",
       "      <td id=\"T_ed85a_row1_col0\" class=\"data row1 col0\" >0.56</td>\n",
       "      <td id=\"T_ed85a_row1_col1\" class=\"data row1 col1\" >0.67</td>\n",
       "      <td id=\"T_ed85a_row1_col2\" class=\"data row1 col2\" >0.56</td>\n",
       "    </tr>\n",
       "    <tr>\n",
       "      <th id=\"T_ed85a_level0_row2\" class=\"row_heading level0 row2\" >Skewness</th>\n",
       "      <td id=\"T_ed85a_row2_col0\" class=\"data row2 col0\" >3.00</td>\n",
       "      <td id=\"T_ed85a_row2_col1\" class=\"data row2 col1\" >3.54</td>\n",
       "      <td id=\"T_ed85a_row2_col2\" class=\"data row2 col2\" >0.77</td>\n",
       "    </tr>\n",
       "    <tr>\n",
       "      <th id=\"T_ed85a_level0_row3\" class=\"row_heading level0 row3\" >Kurtosis</th>\n",
       "      <td id=\"T_ed85a_row3_col0\" class=\"data row3 col0\" >38.37</td>\n",
       "      <td id=\"T_ed85a_row3_col1\" class=\"data row3 col1\" >49.58</td>\n",
       "      <td id=\"T_ed85a_row3_col2\" class=\"data row3 col2\" >14.58</td>\n",
       "    </tr>\n",
       "    <tr>\n",
       "      <th id=\"T_ed85a_level0_row4\" class=\"row_heading level0 row4\" >Worst day return(%)</th>\n",
       "      <td id=\"T_ed85a_row4_col0\" class=\"data row4 col0\" >-3.84</td>\n",
       "      <td id=\"T_ed85a_row4_col1\" class=\"data row4 col1\" >-4.56</td>\n",
       "      <td id=\"T_ed85a_row4_col2\" class=\"data row4 col2\" >-3.70</td>\n",
       "    </tr>\n",
       "    <tr>\n",
       "      <th id=\"T_ed85a_level0_row5\" class=\"row_heading level0 row5\" >Worst 3-month return(%)</th>\n",
       "      <td id=\"T_ed85a_row5_col0\" class=\"data row5 col0\" >2.51</td>\n",
       "      <td id=\"T_ed85a_row5_col1\" class=\"data row5 col1\" >-2.72</td>\n",
       "      <td id=\"T_ed85a_row5_col2\" class=\"data row5 col2\" >-12.17</td>\n",
       "    </tr>\n",
       "    <tr>\n",
       "      <th id=\"T_ed85a_level0_row6\" class=\"row_heading level0 row6\" >Beta</th>\n",
       "      <td id=\"T_ed85a_row6_col0\" class=\"data row6 col0\" >0.11</td>\n",
       "      <td id=\"T_ed85a_row6_col1\" class=\"data row6 col1\" >0.09</td>\n",
       "      <td id=\"T_ed85a_row6_col2\" class=\"data row6 col2\" >0.10</td>\n",
       "    </tr>\n",
       "    <tr>\n",
       "      <th id=\"T_ed85a_level0_row7\" class=\"row_heading level0 row7\" >Annualized Sharpe Ratio</th>\n",
       "      <td id=\"T_ed85a_row7_col0\" class=\"data row7 col0\" >8.63</td>\n",
       "      <td id=\"T_ed85a_row7_col1\" class=\"data row7 col1\" >4.54</td>\n",
       "      <td id=\"T_ed85a_row7_col2\" class=\"data row7 col2\" >0.45</td>\n",
       "    </tr>\n",
       "  </tbody>\n",
       "</table>\n"
      ],
      "text/plain": [
       "<pandas.io.formats.style.Styler at 0x1561792b0>"
      ]
     },
     "execution_count": 13,
     "metadata": {},
     "output_type": "execute_result"
    }
   ],
   "source": [
    "df_stat_A = calc_reversal_strategy.summary_stats(ret_raw)\n",
    "df_stat_A = df_stat_A.style.format('{:.2f}',na_rep='')\n",
    "df_stat_A\n"
   ]
  },
  {
   "cell_type": "markdown",
   "metadata": {},
   "source": [
    "#### B. Hedged returns"
   ]
  },
  {
   "cell_type": "code",
   "execution_count": 14,
   "metadata": {},
   "outputs": [
    {
     "data": {
      "text/html": [
       "<div>\n",
       "<style scoped>\n",
       "    .dataframe tbody tr th:only-of-type {\n",
       "        vertical-align: middle;\n",
       "    }\n",
       "\n",
       "    .dataframe tbody tr th {\n",
       "        vertical-align: top;\n",
       "    }\n",
       "\n",
       "    .dataframe thead th {\n",
       "        text-align: right;\n",
       "    }\n",
       "</style>\n",
       "<table border=\"1\" class=\"dataframe\">\n",
       "  <thead>\n",
       "    <tr style=\"text-align: right;\">\n",
       "      <th></th>\n",
       "      <th>Hedged Transact. prices</th>\n",
       "      <th>Hedged Quote-midpoints</th>\n",
       "      <th>Hedged Industry portfolio</th>\n",
       "    </tr>\n",
       "    <tr>\n",
       "      <th>date</th>\n",
       "      <th></th>\n",
       "      <th></th>\n",
       "      <th></th>\n",
       "    </tr>\n",
       "  </thead>\n",
       "  <tbody>\n",
       "    <tr>\n",
       "      <th>1998-01-02</th>\n",
       "      <td>1.293719</td>\n",
       "      <td>0.006260</td>\n",
       "      <td>0.098217</td>\n",
       "    </tr>\n",
       "    <tr>\n",
       "      <th>1998-01-05</th>\n",
       "      <td>0.676658</td>\n",
       "      <td>0.366557</td>\n",
       "      <td>-0.492475</td>\n",
       "    </tr>\n",
       "    <tr>\n",
       "      <th>1998-01-06</th>\n",
       "      <td>0.411797</td>\n",
       "      <td>0.105485</td>\n",
       "      <td>0.154885</td>\n",
       "    </tr>\n",
       "    <tr>\n",
       "      <th>1998-01-07</th>\n",
       "      <td>0.444951</td>\n",
       "      <td>0.195821</td>\n",
       "      <td>0.306825</td>\n",
       "    </tr>\n",
       "    <tr>\n",
       "      <th>1998-01-08</th>\n",
       "      <td>0.377501</td>\n",
       "      <td>0.100629</td>\n",
       "      <td>-0.162382</td>\n",
       "    </tr>\n",
       "    <tr>\n",
       "      <th>...</th>\n",
       "      <td>...</td>\n",
       "      <td>...</td>\n",
       "      <td>...</td>\n",
       "    </tr>\n",
       "    <tr>\n",
       "      <th>2010-12-27</th>\n",
       "      <td>-0.275475</td>\n",
       "      <td>-0.377051</td>\n",
       "      <td>0.011429</td>\n",
       "    </tr>\n",
       "    <tr>\n",
       "      <th>2010-12-28</th>\n",
       "      <td>0.046795</td>\n",
       "      <td>-0.107225</td>\n",
       "      <td>-0.154520</td>\n",
       "    </tr>\n",
       "    <tr>\n",
       "      <th>2010-12-29</th>\n",
       "      <td>0.082324</td>\n",
       "      <td>0.571102</td>\n",
       "      <td>-0.176019</td>\n",
       "    </tr>\n",
       "    <tr>\n",
       "      <th>2010-12-30</th>\n",
       "      <td>0.189284</td>\n",
       "      <td>0.318495</td>\n",
       "      <td>-0.154718</td>\n",
       "    </tr>\n",
       "    <tr>\n",
       "      <th>2010-12-31</th>\n",
       "      <td>0.032145</td>\n",
       "      <td>0.197534</td>\n",
       "      <td>-0.060142</td>\n",
       "    </tr>\n",
       "  </tbody>\n",
       "</table>\n",
       "<p>3271 rows × 3 columns</p>\n",
       "</div>"
      ],
      "text/plain": [
       "            Hedged Transact. prices  Hedged Quote-midpoints  \\\n",
       "date                                                          \n",
       "1998-01-02                 1.293719                0.006260   \n",
       "1998-01-05                 0.676658                0.366557   \n",
       "1998-01-06                 0.411797                0.105485   \n",
       "1998-01-07                 0.444951                0.195821   \n",
       "1998-01-08                 0.377501                0.100629   \n",
       "...                             ...                     ...   \n",
       "2010-12-27                -0.275475               -0.377051   \n",
       "2010-12-28                 0.046795               -0.107225   \n",
       "2010-12-29                 0.082324                0.571102   \n",
       "2010-12-30                 0.189284                0.318495   \n",
       "2010-12-31                 0.032145                0.197534   \n",
       "\n",
       "            Hedged Industry portfolio  \n",
       "date                                   \n",
       "1998-01-02                   0.098217  \n",
       "1998-01-05                  -0.492475  \n",
       "1998-01-06                   0.154885  \n",
       "1998-01-07                   0.306825  \n",
       "1998-01-08                  -0.162382  \n",
       "...                               ...  \n",
       "2010-12-27                   0.011429  \n",
       "2010-12-28                  -0.154520  \n",
       "2010-12-29                  -0.176019  \n",
       "2010-12-30                  -0.154718  \n",
       "2010-12-31                  -0.060142  \n",
       "\n",
       "[3271 rows x 3 columns]"
      ]
     },
     "execution_count": 14,
     "metadata": {},
     "output_type": "execute_result"
    }
   ],
   "source": [
    "ret_hedged = calc_reversal_strategy.load_reversal_return(data_dir=DATA_DIR, hedged=True)\n",
    "ret_hedged"
   ]
  },
  {
   "cell_type": "code",
   "execution_count": 15,
   "metadata": {},
   "outputs": [
    {
     "data": {
      "text/html": [
       "<style type=\"text/css\">\n",
       "</style>\n",
       "<table id=\"T_b6505\">\n",
       "  <thead>\n",
       "    <tr>\n",
       "      <th class=\"blank level0\" >&nbsp;</th>\n",
       "      <th id=\"T_b6505_level0_col0\" class=\"col_heading level0 col0\" >Hedged Transact. prices</th>\n",
       "      <th id=\"T_b6505_level0_col1\" class=\"col_heading level0 col1\" >Hedged Quote-midpoints</th>\n",
       "      <th id=\"T_b6505_level0_col2\" class=\"col_heading level0 col2\" >Hedged Industry portfolio</th>\n",
       "    </tr>\n",
       "  </thead>\n",
       "  <tbody>\n",
       "    <tr>\n",
       "      <th id=\"T_b6505_level0_row0\" class=\"row_heading level0 row0\" >Mean return(% per day)</th>\n",
       "      <td id=\"T_b6505_row0_col0\" class=\"data row0 col0\" >0.30</td>\n",
       "      <td id=\"T_b6505_row0_col1\" class=\"data row0 col1\" >0.19</td>\n",
       "      <td id=\"T_b6505_row0_col2\" class=\"data row0 col2\" >0.01</td>\n",
       "    </tr>\n",
       "    <tr>\n",
       "      <th id=\"T_b6505_level0_row1\" class=\"row_heading level0 row1\" >Std.dev.(% per day)</th>\n",
       "      <td id=\"T_b6505_row1_col0\" class=\"data row1 col0\" >0.54</td>\n",
       "      <td id=\"T_b6505_row1_col1\" class=\"data row1 col1\" >0.65</td>\n",
       "      <td id=\"T_b6505_row1_col2\" class=\"data row1 col2\" >0.54</td>\n",
       "    </tr>\n",
       "    <tr>\n",
       "      <th id=\"T_b6505_level0_row2\" class=\"row_heading level0 row2\" >Skewness</th>\n",
       "      <td id=\"T_b6505_row2_col0\" class=\"data row2 col0\" >3.01</td>\n",
       "      <td id=\"T_b6505_row2_col1\" class=\"data row2 col1\" >3.80</td>\n",
       "      <td id=\"T_b6505_row2_col2\" class=\"data row2 col2\" >0.65</td>\n",
       "    </tr>\n",
       "    <tr>\n",
       "      <th id=\"T_b6505_level0_row3\" class=\"row_heading level0 row3\" >Kurtosis</th>\n",
       "      <td id=\"T_b6505_row3_col0\" class=\"data row3 col0\" >38.89</td>\n",
       "      <td id=\"T_b6505_row3_col1\" class=\"data row3 col1\" >55.13</td>\n",
       "      <td id=\"T_b6505_row3_col2\" class=\"data row3 col2\" >12.20</td>\n",
       "    </tr>\n",
       "    <tr>\n",
       "      <th id=\"T_b6505_level0_row4\" class=\"row_heading level0 row4\" >Worst day return(%)</th>\n",
       "      <td id=\"T_b6505_row4_col0\" class=\"data row4 col0\" >-3.05</td>\n",
       "      <td id=\"T_b6505_row4_col1\" class=\"data row4 col1\" >-3.96</td>\n",
       "      <td id=\"T_b6505_row4_col2\" class=\"data row4 col2\" >-3.31</td>\n",
       "    </tr>\n",
       "    <tr>\n",
       "      <th id=\"T_b6505_level0_row5\" class=\"row_heading level0 row5\" >Worst 3-month return(%)</th>\n",
       "      <td id=\"T_b6505_row5_col0\" class=\"data row5 col0\" >2.07</td>\n",
       "      <td id=\"T_b6505_row5_col1\" class=\"data row5 col1\" >-2.02</td>\n",
       "      <td id=\"T_b6505_row5_col2\" class=\"data row5 col2\" >-9.18</td>\n",
       "    </tr>\n",
       "    <tr>\n",
       "      <th id=\"T_b6505_level0_row6\" class=\"row_heading level0 row6\" >Beta</th>\n",
       "      <td id=\"T_b6505_row6_col0\" class=\"data row6 col0\" >0.00</td>\n",
       "      <td id=\"T_b6505_row6_col1\" class=\"data row6 col1\" >0.00</td>\n",
       "      <td id=\"T_b6505_row6_col2\" class=\"data row6 col2\" >0.00</td>\n",
       "    </tr>\n",
       "    <tr>\n",
       "      <th id=\"T_b6505_level0_row7\" class=\"row_heading level0 row7\" >Annualized Sharpe Ratio</th>\n",
       "      <td id=\"T_b6505_row7_col0\" class=\"data row7 col0\" >8.90</td>\n",
       "      <td id=\"T_b6505_row7_col1\" class=\"data row7 col1\" >4.58</td>\n",
       "      <td id=\"T_b6505_row7_col2\" class=\"data row7 col2\" >0.38</td>\n",
       "    </tr>\n",
       "  </tbody>\n",
       "</table>\n"
      ],
      "text/plain": [
       "<pandas.io.formats.style.Styler at 0x159932270>"
      ]
     },
     "execution_count": 15,
     "metadata": {},
     "output_type": "execute_result"
    }
   ],
   "source": [
    "df_stat_B = calc_reversal_strategy.summary_stats(ret_hedged)\n",
    "df_stat_B = df_stat_B.style.format('{:.2f}',na_rep='')\n",
    "df_stat_B"
   ]
  },
  {
   "cell_type": "markdown",
   "metadata": {},
   "source": [
    "### Table 2: Predicting Reversal Strategy Returns with VIX"
   ]
  },
  {
   "cell_type": "code",
   "execution_count": null,
   "metadata": {},
   "outputs": [],
   "source": []
  },
  {
   "cell_type": "markdown",
   "metadata": {},
   "source": [
    "## Table Reproduction"
   ]
  },
  {
   "cell_type": "markdown",
   "metadata": {},
   "source": [
    "Here, we reproduce tables with updated data."
   ]
  },
  {
   "cell_type": "markdown",
   "metadata": {},
   "source": [
    "### Table 1: Summary Statistics of Reversal Strategy Returns"
   ]
  },
  {
   "cell_type": "code",
   "execution_count": null,
   "metadata": {},
   "outputs": [],
   "source": []
  },
  {
   "cell_type": "markdown",
   "metadata": {},
   "source": [
    "### Table 2: Predicting Reversal Strategy Returns with VIX"
   ]
  },
  {
   "cell_type": "code",
   "execution_count": null,
   "metadata": {},
   "outputs": [],
   "source": []
  },
  {
   "cell_type": "markdown",
   "metadata": {},
   "source": [
    "## Analysis outside of replication"
   ]
  },
  {
   "cell_type": "code",
   "execution_count": null,
   "metadata": {},
   "outputs": [],
   "source": []
  }
 ],
 "metadata": {
  "kernelspec": {
   "display_name": "ds_hw3",
   "language": "python",
   "name": "python3"
  },
  "language_info": {
   "codemirror_mode": {
    "name": "ipython",
    "version": 3
   },
   "file_extension": ".py",
   "mimetype": "text/x-python",
   "name": "python",
   "nbconvert_exporter": "python",
   "pygments_lexer": "ipython3",
   "version": "3.12.1"
  }
 },
 "nbformat": 4,
 "nbformat_minor": 2
}
