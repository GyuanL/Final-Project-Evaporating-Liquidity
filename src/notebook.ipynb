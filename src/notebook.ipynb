{
 "cells": [
  {
   "cell_type": "markdown",
   "metadata": {},
   "source": [
    "# Final Project - Evaporating Liquidity"
   ]
  },
  {
   "cell_type": "markdown",
   "metadata": {},
   "source": [
    "In this project, we replicate tables from the paper \"_Evaporating Liquidity_\" by Stefan Nagel using the Principals of Reproducible Analytical Pipelines (RAPs) learned in the class. \n",
    "\n",
    "Our replication is automated from end-to-end using Pydoit, formatted using the project template (blank_project) provided by professor Bejarano, which is based on the Cookiecutter Data Science template."
   ]
  },
  {
   "cell_type": "code",
   "execution_count": 1,
   "metadata": {},
   "outputs": [],
   "source": [
    "import pandas as pd\n",
    "\n",
    "import config\n",
    "\n",
    "import load_CRSP_stock\n",
    "import load_FF_industry\n",
    "import load_vix\n",
    "\n",
    "import clean_CRSP_stock\n",
    "\n",
    "DATA_DIR= config.DATA_DIR"
   ]
  },
  {
   "cell_type": "markdown",
   "metadata": {},
   "source": [
    "## Data Collection"
   ]
  },
  {
   "cell_type": "markdown",
   "metadata": {},
   "source": [
    "### 1. Pull and load CRSP data from WRDS"
   ]
  },
  {
   "cell_type": "markdown",
   "metadata": {},
   "source": [
    "Using `load_CRSP_stock`, we pull and save CRSP daily stock data and indexes from WRDS (Wharton Research Data Services). \n",
    "\n",
    "The CRSP daily stock data is needed to construct individual portfolios based on Reversal strategy. The CRSP daily index data is needed to evaluate the performance of Reversal strategy portfolios.\n",
    "\n",
    "Specifically:\n",
    "- we use query to pull data of stocks with share code 10 or 11, from NYSE, AMEX, and Nasdaq\n",
    "- pull one extra month of daily stock data for later data cleaning and processing"
   ]
  },
  {
   "cell_type": "markdown",
   "metadata": {},
   "source": [
    "#### CRSP daily stock data"
   ]
  },
  {
   "cell_type": "code",
   "execution_count": 21,
   "metadata": {},
   "outputs": [
    {
     "name": "stdout",
     "output_type": "stream",
     "text": [
      "<class 'pandas.core.frame.DataFrame'>\n",
      "Index: 17445472 entries, 0 to 445471\n",
      "Data columns (total 12 columns):\n",
      " #   Column   Dtype         \n",
      "---  ------   -----         \n",
      " 0   date     datetime64[ns]\n",
      " 1   permno   int64         \n",
      " 2   permco   int64         \n",
      " 3   exchcd   int64         \n",
      " 4   prc      float64       \n",
      " 5   bid      float64       \n",
      " 6   ask      float64       \n",
      " 7   shrout   float64       \n",
      " 8   cfacpr   float64       \n",
      " 9   cfacshr  float64       \n",
      " 10  ret      float64       \n",
      " 11  retx     float64       \n",
      "dtypes: datetime64[ns](1), float64(8), int64(3)\n",
      "memory usage: 1.7 GB\n"
     ]
    }
   ],
   "source": [
    "df_dsf = load_CRSP_stock.load_CRSP_daily_file(data_dir=DATA_DIR)\n",
    "df_dsf.info()"
   ]
  },
  {
   "cell_type": "markdown",
   "metadata": {},
   "source": [
    "### CRSP daily indexes"
   ]
  },
  {
   "cell_type": "code",
   "execution_count": 20,
   "metadata": {},
   "outputs": [
    {
     "data": {
      "text/plain": [
       "Index(['caldt', 'vwretd', 'vwindd', 'vwretx', 'vwindx', 'ewretd', 'ewindd',\n",
       "       'ewretx', 'ewindx', 'sprtrn', 'spindx', 'decret1', 'decind1', 'decret2',\n",
       "       'decind2', 'decret3', 'decind3', 'decret4', 'decind4', 'decret5',\n",
       "       'decind5', 'decret6', 'decind6', 'decret7', 'decind7', 'decret8',\n",
       "       'decind8', 'decret9', 'decind9', 'decret10', 'decind10', 'totval',\n",
       "       'totcnt', 'usdval', 'usdcnt'],\n",
       "      dtype='object')"
      ]
     },
     "execution_count": 20,
     "metadata": {},
     "output_type": "execute_result"
    }
   ],
   "source": [
    "df_msix = load_CRSP_stock.load_CRSP_index_files(data_dir=DATA_DIR)\n",
    "df_msix.columns"
   ]
  },
  {
   "cell_type": "markdown",
   "metadata": {},
   "source": [
    "### 2. Pull and load data from the Fama-French Data Library\n"
   ]
  },
  {
   "cell_type": "markdown",
   "metadata": {},
   "source": [
    "\n",
    "Using `load_FF_industry`, we pull and save 48 industry portfolio daily returns from the Fama/French Data Library. \n",
    "\n",
    "The industry portfolios are constructed by classifying stocks into 48 industries as in Fama and French (1997). The industry portfolio daily returns are needed to construct the industry portfolios based on Reversal strategy."
   ]
  },
  {
   "cell_type": "code",
   "execution_count": 3,
   "metadata": {},
   "outputs": [],
   "source": [
    "ff = load_FF_industry.load_FF_industry_portfolio_daily(data_dir=DATA_DIR)"
   ]
  },
  {
   "cell_type": "markdown",
   "metadata": {},
   "source": [
    "#### Average Value Weighted Daily Returns"
   ]
  },
  {
   "cell_type": "code",
   "execution_count": 10,
   "metadata": {},
   "outputs": [
    {
     "data": {
      "text/html": [
       "<div>\n",
       "<style scoped>\n",
       "    .dataframe tbody tr th:only-of-type {\n",
       "        vertical-align: middle;\n",
       "    }\n",
       "\n",
       "    .dataframe tbody tr th {\n",
       "        vertical-align: top;\n",
       "    }\n",
       "\n",
       "    .dataframe thead th {\n",
       "        text-align: right;\n",
       "    }\n",
       "</style>\n",
       "<table border=\"1\" class=\"dataframe\">\n",
       "  <thead>\n",
       "    <tr style=\"text-align: right;\">\n",
       "      <th></th>\n",
       "      <th>Agric</th>\n",
       "      <th>Food</th>\n",
       "      <th>Soda</th>\n",
       "      <th>Beer</th>\n",
       "      <th>Smoke</th>\n",
       "      <th>Toys</th>\n",
       "      <th>Fun</th>\n",
       "      <th>Books</th>\n",
       "      <th>Hshld</th>\n",
       "      <th>Clths</th>\n",
       "      <th>...</th>\n",
       "      <th>Boxes</th>\n",
       "      <th>Trans</th>\n",
       "      <th>Whlsl</th>\n",
       "      <th>Rtail</th>\n",
       "      <th>Meals</th>\n",
       "      <th>Banks</th>\n",
       "      <th>Insur</th>\n",
       "      <th>RlEst</th>\n",
       "      <th>Fin</th>\n",
       "      <th>Other</th>\n",
       "    </tr>\n",
       "    <tr>\n",
       "      <th>Date</th>\n",
       "      <th></th>\n",
       "      <th></th>\n",
       "      <th></th>\n",
       "      <th></th>\n",
       "      <th></th>\n",
       "      <th></th>\n",
       "      <th></th>\n",
       "      <th></th>\n",
       "      <th></th>\n",
       "      <th></th>\n",
       "      <th></th>\n",
       "      <th></th>\n",
       "      <th></th>\n",
       "      <th></th>\n",
       "      <th></th>\n",
       "      <th></th>\n",
       "      <th></th>\n",
       "      <th></th>\n",
       "      <th></th>\n",
       "      <th></th>\n",
       "      <th></th>\n",
       "    </tr>\n",
       "  </thead>\n",
       "  <tbody>\n",
       "    <tr>\n",
       "      <th>2010-12-27</th>\n",
       "      <td>0.12</td>\n",
       "      <td>-0.35</td>\n",
       "      <td>-0.22</td>\n",
       "      <td>-0.61</td>\n",
       "      <td>-0.26</td>\n",
       "      <td>0.06</td>\n",
       "      <td>-0.48</td>\n",
       "      <td>0.29</td>\n",
       "      <td>-0.55</td>\n",
       "      <td>-0.08</td>\n",
       "      <td>...</td>\n",
       "      <td>0.24</td>\n",
       "      <td>0.21</td>\n",
       "      <td>0.12</td>\n",
       "      <td>-0.13</td>\n",
       "      <td>-0.61</td>\n",
       "      <td>1.17</td>\n",
       "      <td>0.24</td>\n",
       "      <td>-0.18</td>\n",
       "      <td>0.83</td>\n",
       "      <td>0.52</td>\n",
       "    </tr>\n",
       "    <tr>\n",
       "      <th>2010-12-28</th>\n",
       "      <td>0.37</td>\n",
       "      <td>0.03</td>\n",
       "      <td>-0.39</td>\n",
       "      <td>0.12</td>\n",
       "      <td>-0.05</td>\n",
       "      <td>-1.45</td>\n",
       "      <td>-0.63</td>\n",
       "      <td>-0.50</td>\n",
       "      <td>0.14</td>\n",
       "      <td>-0.37</td>\n",
       "      <td>...</td>\n",
       "      <td>-0.02</td>\n",
       "      <td>-0.08</td>\n",
       "      <td>-0.16</td>\n",
       "      <td>-0.06</td>\n",
       "      <td>-0.23</td>\n",
       "      <td>0.15</td>\n",
       "      <td>-0.21</td>\n",
       "      <td>-0.39</td>\n",
       "      <td>-0.10</td>\n",
       "      <td>0.17</td>\n",
       "    </tr>\n",
       "    <tr>\n",
       "      <th>2010-12-29</th>\n",
       "      <td>2.22</td>\n",
       "      <td>-0.03</td>\n",
       "      <td>-0.32</td>\n",
       "      <td>0.09</td>\n",
       "      <td>0.23</td>\n",
       "      <td>0.55</td>\n",
       "      <td>0.22</td>\n",
       "      <td>0.70</td>\n",
       "      <td>-0.38</td>\n",
       "      <td>-0.53</td>\n",
       "      <td>...</td>\n",
       "      <td>0.02</td>\n",
       "      <td>0.21</td>\n",
       "      <td>0.23</td>\n",
       "      <td>0.51</td>\n",
       "      <td>0.49</td>\n",
       "      <td>-0.25</td>\n",
       "      <td>-0.09</td>\n",
       "      <td>0.70</td>\n",
       "      <td>-0.50</td>\n",
       "      <td>-0.10</td>\n",
       "    </tr>\n",
       "    <tr>\n",
       "      <th>2010-12-30</th>\n",
       "      <td>1.00</td>\n",
       "      <td>0.07</td>\n",
       "      <td>0.00</td>\n",
       "      <td>-0.11</td>\n",
       "      <td>-0.42</td>\n",
       "      <td>-0.02</td>\n",
       "      <td>-0.60</td>\n",
       "      <td>-0.78</td>\n",
       "      <td>-0.15</td>\n",
       "      <td>0.54</td>\n",
       "      <td>...</td>\n",
       "      <td>-0.04</td>\n",
       "      <td>-0.02</td>\n",
       "      <td>-0.03</td>\n",
       "      <td>0.13</td>\n",
       "      <td>-0.39</td>\n",
       "      <td>-0.35</td>\n",
       "      <td>-0.29</td>\n",
       "      <td>-0.47</td>\n",
       "      <td>-0.25</td>\n",
       "      <td>-0.44</td>\n",
       "    </tr>\n",
       "    <tr>\n",
       "      <th>2010-12-31</th>\n",
       "      <td>-0.13</td>\n",
       "      <td>0.01</td>\n",
       "      <td>-0.81</td>\n",
       "      <td>0.34</td>\n",
       "      <td>0.05</td>\n",
       "      <td>-1.12</td>\n",
       "      <td>1.14</td>\n",
       "      <td>-0.18</td>\n",
       "      <td>-0.06</td>\n",
       "      <td>-0.93</td>\n",
       "      <td>...</td>\n",
       "      <td>-1.02</td>\n",
       "      <td>0.00</td>\n",
       "      <td>-0.54</td>\n",
       "      <td>-0.48</td>\n",
       "      <td>-0.40</td>\n",
       "      <td>0.09</td>\n",
       "      <td>0.19</td>\n",
       "      <td>-0.09</td>\n",
       "      <td>0.07</td>\n",
       "      <td>0.60</td>\n",
       "    </tr>\n",
       "  </tbody>\n",
       "</table>\n",
       "<p>5 rows × 48 columns</p>\n",
       "</div>"
      ],
      "text/plain": [
       "            Agric  Food   Soda   Beer   Smoke  Toys   Fun    Books  Hshld  \\\n",
       "Date                                                                        \n",
       "2010-12-27   0.12  -0.35  -0.22  -0.61  -0.26   0.06  -0.48   0.29  -0.55   \n",
       "2010-12-28   0.37   0.03  -0.39   0.12  -0.05  -1.45  -0.63  -0.50   0.14   \n",
       "2010-12-29   2.22  -0.03  -0.32   0.09   0.23   0.55   0.22   0.70  -0.38   \n",
       "2010-12-30   1.00   0.07   0.00  -0.11  -0.42  -0.02  -0.60  -0.78  -0.15   \n",
       "2010-12-31  -0.13   0.01  -0.81   0.34   0.05  -1.12   1.14  -0.18  -0.06   \n",
       "\n",
       "            Clths  ...  Boxes  Trans  Whlsl  Rtail  Meals  Banks  Insur  \\\n",
       "Date               ...                                                    \n",
       "2010-12-27  -0.08  ...   0.24   0.21   0.12  -0.13  -0.61   1.17   0.24   \n",
       "2010-12-28  -0.37  ...  -0.02  -0.08  -0.16  -0.06  -0.23   0.15  -0.21   \n",
       "2010-12-29  -0.53  ...   0.02   0.21   0.23   0.51   0.49  -0.25  -0.09   \n",
       "2010-12-30   0.54  ...  -0.04  -0.02  -0.03   0.13  -0.39  -0.35  -0.29   \n",
       "2010-12-31  -0.93  ...  -1.02   0.00  -0.54  -0.48  -0.40   0.09   0.19   \n",
       "\n",
       "            RlEst  Fin    Other  \n",
       "Date                             \n",
       "2010-12-27  -0.18   0.83   0.52  \n",
       "2010-12-28  -0.39  -0.10   0.17  \n",
       "2010-12-29   0.70  -0.50  -0.10  \n",
       "2010-12-30  -0.47  -0.25  -0.44  \n",
       "2010-12-31  -0.09   0.07   0.60  \n",
       "\n",
       "[5 rows x 48 columns]"
      ]
     },
     "execution_count": 10,
     "metadata": {},
     "output_type": "execute_result"
    }
   ],
   "source": [
    "ff[0].tail()"
   ]
  },
  {
   "cell_type": "markdown",
   "metadata": {},
   "source": [
    "#### Average Equal Weighted Returns"
   ]
  },
  {
   "cell_type": "code",
   "execution_count": 11,
   "metadata": {},
   "outputs": [
    {
     "data": {
      "text/html": [
       "<div>\n",
       "<style scoped>\n",
       "    .dataframe tbody tr th:only-of-type {\n",
       "        vertical-align: middle;\n",
       "    }\n",
       "\n",
       "    .dataframe tbody tr th {\n",
       "        vertical-align: top;\n",
       "    }\n",
       "\n",
       "    .dataframe thead th {\n",
       "        text-align: right;\n",
       "    }\n",
       "</style>\n",
       "<table border=\"1\" class=\"dataframe\">\n",
       "  <thead>\n",
       "    <tr style=\"text-align: right;\">\n",
       "      <th></th>\n",
       "      <th>Agric</th>\n",
       "      <th>Food</th>\n",
       "      <th>Soda</th>\n",
       "      <th>Beer</th>\n",
       "      <th>Smoke</th>\n",
       "      <th>Toys</th>\n",
       "      <th>Fun</th>\n",
       "      <th>Books</th>\n",
       "      <th>Hshld</th>\n",
       "      <th>Clths</th>\n",
       "      <th>...</th>\n",
       "      <th>Boxes</th>\n",
       "      <th>Trans</th>\n",
       "      <th>Whlsl</th>\n",
       "      <th>Rtail</th>\n",
       "      <th>Meals</th>\n",
       "      <th>Banks</th>\n",
       "      <th>Insur</th>\n",
       "      <th>RlEst</th>\n",
       "      <th>Fin</th>\n",
       "      <th>Other</th>\n",
       "    </tr>\n",
       "    <tr>\n",
       "      <th>Date</th>\n",
       "      <th></th>\n",
       "      <th></th>\n",
       "      <th></th>\n",
       "      <th></th>\n",
       "      <th></th>\n",
       "      <th></th>\n",
       "      <th></th>\n",
       "      <th></th>\n",
       "      <th></th>\n",
       "      <th></th>\n",
       "      <th></th>\n",
       "      <th></th>\n",
       "      <th></th>\n",
       "      <th></th>\n",
       "      <th></th>\n",
       "      <th></th>\n",
       "      <th></th>\n",
       "      <th></th>\n",
       "      <th></th>\n",
       "      <th></th>\n",
       "      <th></th>\n",
       "    </tr>\n",
       "  </thead>\n",
       "  <tbody>\n",
       "    <tr>\n",
       "      <th>2010-12-27</th>\n",
       "      <td>-0.03</td>\n",
       "      <td>0.13</td>\n",
       "      <td>0.98</td>\n",
       "      <td>-0.20</td>\n",
       "      <td>0.24</td>\n",
       "      <td>-0.95</td>\n",
       "      <td>-0.01</td>\n",
       "      <td>1.26</td>\n",
       "      <td>0.60</td>\n",
       "      <td>0.11</td>\n",
       "      <td>...</td>\n",
       "      <td>0.23</td>\n",
       "      <td>-0.02</td>\n",
       "      <td>0.21</td>\n",
       "      <td>0.28</td>\n",
       "      <td>-0.11</td>\n",
       "      <td>0.78</td>\n",
       "      <td>0.53</td>\n",
       "      <td>0.30</td>\n",
       "      <td>0.35</td>\n",
       "      <td>0.36</td>\n",
       "    </tr>\n",
       "    <tr>\n",
       "      <th>2010-12-28</th>\n",
       "      <td>0.14</td>\n",
       "      <td>-0.25</td>\n",
       "      <td>-0.34</td>\n",
       "      <td>0.59</td>\n",
       "      <td>-0.20</td>\n",
       "      <td>-1.53</td>\n",
       "      <td>0.10</td>\n",
       "      <td>-1.39</td>\n",
       "      <td>0.25</td>\n",
       "      <td>-0.48</td>\n",
       "      <td>...</td>\n",
       "      <td>-0.04</td>\n",
       "      <td>-0.35</td>\n",
       "      <td>-0.17</td>\n",
       "      <td>-0.34</td>\n",
       "      <td>-0.59</td>\n",
       "      <td>0.04</td>\n",
       "      <td>-0.37</td>\n",
       "      <td>-0.15</td>\n",
       "      <td>0.06</td>\n",
       "      <td>-0.26</td>\n",
       "    </tr>\n",
       "    <tr>\n",
       "      <th>2010-12-29</th>\n",
       "      <td>0.16</td>\n",
       "      <td>-0.18</td>\n",
       "      <td>0.26</td>\n",
       "      <td>-0.02</td>\n",
       "      <td>-0.32</td>\n",
       "      <td>0.01</td>\n",
       "      <td>0.25</td>\n",
       "      <td>0.34</td>\n",
       "      <td>0.31</td>\n",
       "      <td>0.18</td>\n",
       "      <td>...</td>\n",
       "      <td>0.06</td>\n",
       "      <td>0.17</td>\n",
       "      <td>0.12</td>\n",
       "      <td>0.54</td>\n",
       "      <td>0.81</td>\n",
       "      <td>0.30</td>\n",
       "      <td>0.23</td>\n",
       "      <td>0.53</td>\n",
       "      <td>-0.25</td>\n",
       "      <td>-0.03</td>\n",
       "    </tr>\n",
       "    <tr>\n",
       "      <th>2010-12-30</th>\n",
       "      <td>1.20</td>\n",
       "      <td>0.49</td>\n",
       "      <td>-0.25</td>\n",
       "      <td>0.12</td>\n",
       "      <td>-1.20</td>\n",
       "      <td>0.84</td>\n",
       "      <td>-0.20</td>\n",
       "      <td>-0.73</td>\n",
       "      <td>-0.37</td>\n",
       "      <td>0.62</td>\n",
       "      <td>...</td>\n",
       "      <td>-0.02</td>\n",
       "      <td>0.62</td>\n",
       "      <td>0.23</td>\n",
       "      <td>0.13</td>\n",
       "      <td>0.04</td>\n",
       "      <td>0.18</td>\n",
       "      <td>-0.18</td>\n",
       "      <td>-0.04</td>\n",
       "      <td>-0.35</td>\n",
       "      <td>-0.20</td>\n",
       "    </tr>\n",
       "    <tr>\n",
       "      <th>2010-12-31</th>\n",
       "      <td>1.06</td>\n",
       "      <td>-0.40</td>\n",
       "      <td>-1.37</td>\n",
       "      <td>0.44</td>\n",
       "      <td>0.49</td>\n",
       "      <td>0.39</td>\n",
       "      <td>-0.02</td>\n",
       "      <td>-0.20</td>\n",
       "      <td>-0.50</td>\n",
       "      <td>-0.91</td>\n",
       "      <td>...</td>\n",
       "      <td>-0.99</td>\n",
       "      <td>-0.07</td>\n",
       "      <td>-0.47</td>\n",
       "      <td>-0.68</td>\n",
       "      <td>-0.56</td>\n",
       "      <td>0.15</td>\n",
       "      <td>0.11</td>\n",
       "      <td>1.09</td>\n",
       "      <td>-0.39</td>\n",
       "      <td>-0.29</td>\n",
       "    </tr>\n",
       "  </tbody>\n",
       "</table>\n",
       "<p>5 rows × 48 columns</p>\n",
       "</div>"
      ],
      "text/plain": [
       "            Agric  Food   Soda   Beer   Smoke  Toys   Fun    Books  Hshld  \\\n",
       "Date                                                                        \n",
       "2010-12-27  -0.03   0.13   0.98  -0.20   0.24  -0.95  -0.01   1.26   0.60   \n",
       "2010-12-28   0.14  -0.25  -0.34   0.59  -0.20  -1.53   0.10  -1.39   0.25   \n",
       "2010-12-29   0.16  -0.18   0.26  -0.02  -0.32   0.01   0.25   0.34   0.31   \n",
       "2010-12-30   1.20   0.49  -0.25   0.12  -1.20   0.84  -0.20  -0.73  -0.37   \n",
       "2010-12-31   1.06  -0.40  -1.37   0.44   0.49   0.39  -0.02  -0.20  -0.50   \n",
       "\n",
       "            Clths  ...  Boxes  Trans  Whlsl  Rtail  Meals  Banks  Insur  \\\n",
       "Date               ...                                                    \n",
       "2010-12-27   0.11  ...   0.23  -0.02   0.21   0.28  -0.11   0.78   0.53   \n",
       "2010-12-28  -0.48  ...  -0.04  -0.35  -0.17  -0.34  -0.59   0.04  -0.37   \n",
       "2010-12-29   0.18  ...   0.06   0.17   0.12   0.54   0.81   0.30   0.23   \n",
       "2010-12-30   0.62  ...  -0.02   0.62   0.23   0.13   0.04   0.18  -0.18   \n",
       "2010-12-31  -0.91  ...  -0.99  -0.07  -0.47  -0.68  -0.56   0.15   0.11   \n",
       "\n",
       "            RlEst  Fin    Other  \n",
       "Date                             \n",
       "2010-12-27   0.30   0.35   0.36  \n",
       "2010-12-28  -0.15   0.06  -0.26  \n",
       "2010-12-29   0.53  -0.25  -0.03  \n",
       "2010-12-30  -0.04  -0.35  -0.20  \n",
       "2010-12-31   1.09  -0.39  -0.29  \n",
       "\n",
       "[5 rows x 48 columns]"
      ]
     },
     "execution_count": 11,
     "metadata": {},
     "output_type": "execute_result"
    }
   ],
   "source": [
    "ff[1].tail()"
   ]
  },
  {
   "cell_type": "markdown",
   "metadata": {},
   "source": [
    "### 3. Pull and load VIX from the Fama-French Data Library\n"
   ]
  },
  {
   "cell_type": "markdown",
   "metadata": {},
   "source": [
    "\n",
    "Using `load_vix`, we pull and save CBOE Volatility Index data from FRED. The data is used later in table replicatation."
   ]
  },
  {
   "cell_type": "code",
   "execution_count": 4,
   "metadata": {},
   "outputs": [],
   "source": [
    "vix = load_vix.load_vix_from_fred(data_dir=DATA_DIR)"
   ]
  },
  {
   "cell_type": "markdown",
   "metadata": {},
   "source": [
    "## Data Cleaning and Processing"
   ]
  },
  {
   "cell_type": "markdown",
   "metadata": {},
   "source": [
    "### Select the desired subsample of the data"
   ]
  },
  {
   "cell_type": "markdown",
   "metadata": {},
   "source": [
    "> Reversal strategy returns based on transaction prices are calculated from daily closing prices, and the reversal strategy returns based on quote-midpoints are calculated from averages of closing bid and ask quotes, as reported in the CRSP daily returns file (for Nasdaq stocks only), adjusted for stock splits and dividends using the CRSP adjustment factors and dividend information.\n"
   ]
  },
  {
   "cell_type": "markdown",
   "metadata": {},
   "source": [
    "> To enter into the sample, stocks must have a closing price of at least $1 on the last trading day of the previous calendar month.\n"
   ]
  },
  {
   "cell_type": "markdown",
   "metadata": {},
   "source": [
    "\n",
    "> To screen out data recording errors of bid and ask data for Nasdaq stocks: require that the ratio of bid to quote-midpoint is not smaller than 0.5, and the one-day return based on quote-midpoints minus the return based on closing prices is not less than -50% and not higher than 100%. If a closing transaction price is not available, the quote-midpoint is used to calculate transaction-price returns.\n"
   ]
  },
  {
   "cell_type": "markdown",
   "metadata": {},
   "source": [
    "### Load cleaned data"
   ]
  },
  {
   "cell_type": "code",
   "execution_count": 24,
   "metadata": {},
   "outputs": [
    {
     "name": "stdout",
     "output_type": "stream",
     "text": [
      "<class 'pandas.core.frame.DataFrame'>\n",
      "RangeIndex: 12096467 entries, 0 to 12096466\n",
      "Data columns (total 13 columns):\n",
      " #   Column   Dtype         \n",
      "---  ------   -----         \n",
      " 0   index    int64         \n",
      " 1   date     datetime64[ns]\n",
      " 2   permno   int64         \n",
      " 3   permco   int64         \n",
      " 4   exchcd   int64         \n",
      " 5   prc      float64       \n",
      " 6   bid      float64       \n",
      " 7   ask      float64       \n",
      " 8   shrout   float64       \n",
      " 9   cfacpr   float64       \n",
      " 10  cfacshr  float64       \n",
      " 11  ret      float64       \n",
      " 12  retx     float64       \n",
      "dtypes: datetime64[ns](1), float64(8), int64(4)\n",
      "memory usage: 1.2 GB\n"
     ]
    }
   ],
   "source": [
    "dfcp = clean_CRSP_stock.load_CRSP_closing_price(data_dir=DATA_DIR)\n",
    "dfcp.info()"
   ]
  },
  {
   "cell_type": "code",
   "execution_count": 23,
   "metadata": {},
   "outputs": [
    {
     "name": "stdout",
     "output_type": "stream",
     "text": [
      "<class 'pandas.core.frame.DataFrame'>\n",
      "RangeIndex: 7014287 entries, 0 to 7014286\n",
      "Data columns (total 14 columns):\n",
      " #   Column          Dtype         \n",
      "---  ------          -----         \n",
      " 0   index           int64         \n",
      " 1   date            datetime64[ns]\n",
      " 2   permno          int64         \n",
      " 3   permco          int64         \n",
      " 4   exchcd          int64         \n",
      " 5   prc             float64       \n",
      " 6   bid             float64       \n",
      " 7   ask             float64       \n",
      " 8   shrout          float64       \n",
      " 9   cfacpr          float64       \n",
      " 10  cfacshr         float64       \n",
      " 11  ret             float64       \n",
      " 12  retx            float64       \n",
      " 13  quote_midpoint  float64       \n",
      "dtypes: datetime64[ns](1), float64(9), int64(4)\n",
      "memory usage: 749.2 MB\n"
     ]
    }
   ],
   "source": [
    "dfmid = clean_CRSP_stock.load_CRSP_midpoint(data_dir=DATA_DIR)\n",
    "dfmid.info()"
   ]
  },
  {
   "cell_type": "markdown",
   "metadata": {},
   "source": [
    "## Reversal Strategy "
   ]
  },
  {
   "cell_type": "code",
   "execution_count": null,
   "metadata": {},
   "outputs": [],
   "source": []
  },
  {
   "cell_type": "markdown",
   "metadata": {},
   "source": [
    "## Table Replication"
   ]
  },
  {
   "cell_type": "markdown",
   "metadata": {},
   "source": [
    "We replicate tables with data from January 1998 to December 2010."
   ]
  },
  {
   "cell_type": "code",
   "execution_count": null,
   "metadata": {},
   "outputs": [],
   "source": []
  },
  {
   "cell_type": "markdown",
   "metadata": {},
   "source": [
    "## Table Reproduction"
   ]
  },
  {
   "cell_type": "markdown",
   "metadata": {},
   "source": [
    "Here, we reproduce tables with updated data."
   ]
  },
  {
   "cell_type": "code",
   "execution_count": null,
   "metadata": {},
   "outputs": [],
   "source": []
  },
  {
   "cell_type": "markdown",
   "metadata": {},
   "source": [
    "## Analysis outside of replication"
   ]
  },
  {
   "cell_type": "code",
   "execution_count": null,
   "metadata": {},
   "outputs": [],
   "source": []
  }
 ],
 "metadata": {
  "kernelspec": {
   "display_name": "ds_hw3",
   "language": "python",
   "name": "python3"
  },
  "language_info": {
   "codemirror_mode": {
    "name": "ipython",
    "version": 3
   },
   "file_extension": ".py",
   "mimetype": "text/x-python",
   "name": "python",
   "nbconvert_exporter": "python",
   "pygments_lexer": "ipython3",
   "version": "3.12.1"
  }
 },
 "nbformat": 4,
 "nbformat_minor": 2
}
